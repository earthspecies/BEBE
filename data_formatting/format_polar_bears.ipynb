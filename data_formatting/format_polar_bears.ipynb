{
 "cells": [
  {
   "cell_type": "markdown",
   "id": "86ce8245-b923-42ba-b1cf-b0a8bdb804d4",
   "metadata": {},
   "source": [
    "# Notebook to format data from \"Metabolic Rate, Body Composition, Foraging Success, Behavior, and GPS Locations of Female Polar Bears (Ursus maritimus), Beaufort Sea, Spring, 2014-2016 and Resting Energetics of an Adult Female Polar Bear: U.S. Geological Survey data release\", Pagano (2018).\n",
    "\n",
    "Data can be found [here](https://alaska.usgs.gov/products/data.php?dataid=174).\n",
    "\n",
    "See also [this paper](https://www.int-res.com/articles/esr2017/32/n032p019.pdf).\n",
    "\n",
    "Some awesome [video footage](https://www.youtube.com/watch?v=qXQBjZLNYT0)"
   ]
  },
  {
   "cell_type": "markdown",
   "id": "77461baa-2d89-4ddf-b8b9-283f19b3313e",
   "metadata": {},
   "source": [
    "## Setup"
   ]
  },
  {
   "cell_type": "code",
   "execution_count": 1,
   "id": "a9cd11e9-258b-4304-a21d-f826f276b73b",
   "metadata": {},
   "outputs": [],
   "source": [
    "# Outputs:\n",
    "# formatted dataset directory\n",
    "# dataset_metadata (yaml), includes\n",
    "## sample_rate\n",
    "## dataset_label_names (list)\n",
    "## dataset_feature_names (list)\n",
    "## clip_ids (list)\n",
    "# clip_data (directory), includes\n",
    "## data_files (multiple files)"
   ]
  },
  {
   "cell_type": "code",
   "execution_count": 2,
   "id": "7470e077-e978-495a-b349-27cc5a6b2a40",
   "metadata": {},
   "outputs": [],
   "source": [
    "%load_ext autoreload\n",
    "%autoreload 2"
   ]
  },
  {
   "cell_type": "code",
   "execution_count": 3,
   "id": "ec388900-f0ab-4e41-a56b-9597e4f4911f",
   "metadata": {},
   "outputs": [],
   "source": [
    "import os\n",
    "import numpy as np\n",
    "import pandas as pd\n",
    "import h5py\n",
    "from matplotlib import pyplot as plt\n",
    "import glob\n",
    "import yaml\n",
    "import scipy.signal as signal\n",
    "import datetime\n",
    "import tqdm"
   ]
  },
  {
   "cell_type": "code",
   "execution_count": 4,
   "id": "6bc728a2-a91e-4da2-abea-4b57ceb4e818",
   "metadata": {},
   "outputs": [],
   "source": [
    "# Specify data filepaths\n",
    "\n",
    "raw_data_dir = '/home/jupyter/behavior_data_local/data/raw/pagano_bears'\n",
    "formatted_data_dir = '/home/jupyter/behavior_data_local/data/formatted/pagano_bears'\n",
    "\n",
    "if not os.path.exists(formatted_data_dir):\n",
    "    os.makedirs(formatted_data_dir)\n",
    "    \n",
    "features_fps = os.path.join(raw_data_dir, 'PolarBear_archival_logger_data_southernBeaufortSea_2014_2016_revised.csv')\n",
    "annotations_fps = os.path.join(raw_data_dir, 'PolarBear_video-derived_behaviors_southernBeaufortSea_2014_2016_revised.csv')\n",
    "\n",
    "clip_data_dir = os.path.join(formatted_data_dir, 'clip_data')\n",
    "if not os.path.exists(clip_data_dir):\n",
    "    os.makedirs(clip_data_dir)"
   ]
  },
  {
   "cell_type": "code",
   "execution_count": 5,
   "id": "98f244e7-ac03-48e2-868a-1b7f7dd15fea",
   "metadata": {},
   "outputs": [],
   "source": [
    "# Dataset metadata\n",
    "dataset_metadata = {}\n",
    "sr = 16\n",
    "dataset_metadata['sr'] = sr ## from dataset documentation\n",
    "dataset_metadata['dataset_name'] = 'pagano_bears'"
   ]
  },
  {
   "cell_type": "code",
   "execution_count": 6,
   "id": "3b1891a7-1ff4-4df0-9c00-ecf634c3870a",
   "metadata": {},
   "outputs": [],
   "source": [
    "data = pd.read_csv(features_fps)\n",
    "annotations = pd.read_csv(annotations_fps)"
   ]
  },
  {
   "cell_type": "code",
   "execution_count": 7,
   "id": "7fa104a6-5093-484f-978e-1cb0d65243ee",
   "metadata": {},
   "outputs": [],
   "source": [
    "individuals = sorted(data['Bear'].unique())\n",
    "individuals = [int(x) for x in individuals]"
   ]
  },
  {
   "cell_type": "code",
   "execution_count": 8,
   "id": "ee92f4bf-e469-400e-839c-1939da873bae",
   "metadata": {},
   "outputs": [
    {
     "data": {
      "text/plain": [
       "[3, 5, 6, 7, 8, 9]"
      ]
     },
     "execution_count": 8,
     "metadata": {},
     "output_type": "execute_result"
    }
   ],
   "source": [
    "individuals"
   ]
  },
  {
   "cell_type": "code",
   "execution_count": 9,
   "id": "8952a2d7-61c1-4c4e-b37a-221745bb82f0",
   "metadata": {},
   "outputs": [],
   "source": [
    "# Split tracks into 3 hour clips, so that life is more manageable\n",
    "# Keep track of which individual is associated to which clip_id\n",
    "\n",
    "data['clip_id'] = 'clip_' + str(0)\n",
    "\n",
    "clip_size_samples = 1728000 # This is 3 hours of recording at 16 Hz\n",
    "current_clip_id = 0\n",
    "clip_ids = []\n",
    "\n",
    "clip_id_to_individual_id = {}\n",
    "for individual in individuals:\n",
    "    indices = data[data['Bear'] == individual].index\n",
    "    x = 0\n",
    "    while x< len(indices):\n",
    "        selected = indices[x : x +clip_size_samples]\n",
    "        data.loc[selected, 'clip_id'] = 'clip_' + str(current_clip_id)\n",
    "        clip_ids.append('clip_' + str(current_clip_id))\n",
    "        clip_id_to_individual_id['clip_' + str(current_clip_id)] = individual\n",
    "        current_clip_id += 1\n",
    "        x += clip_size_samples"
   ]
  },
  {
   "cell_type": "code",
   "execution_count": 10,
   "id": "7ea20959-639e-4f2c-8efa-945516302110",
   "metadata": {},
   "outputs": [],
   "source": [
    "## Integer codes for individuals\n",
    "\n",
    "dataset_metadata['individual_ids'] = individuals # There are 6 individuals with tag data\n",
    "dataset_metadata['clip_id_to_individual_id'] = clip_id_to_individual_id"
   ]
  },
  {
   "cell_type": "code",
   "execution_count": 11,
   "id": "b719e122-9b2d-4fb1-a519-36f58a545c0c",
   "metadata": {},
   "outputs": [
    {
     "name": "stdout",
     "output_type": "stream",
     "text": [
      "[3, 5, 9]\n",
      "[6]\n",
      "[3, 5, 6, 9]\n",
      "[7, 8]\n"
     ]
    }
   ],
   "source": [
    "# Set up data splits by individual\n",
    "\n",
    "test_proportion = .34\n",
    "val_proportion = .2\n",
    "num_individuals = len(individuals)\n",
    "\n",
    "test_num_individuals = int(test_proportion * num_individuals)\n",
    "val_num_individuals = int(val_proportion * num_individuals)\n",
    "\n",
    "rng = np.random.default_rng(607)\n",
    "test_individuals = list(rng.choice(individuals, size = test_num_individuals, replace = False))\n",
    "test_individuals.sort()\n",
    "\n",
    "dev_individuals = individuals.copy()\n",
    "for i in test_individuals:\n",
    "    dev_individuals.remove(i)\n",
    "    \n",
    "val_individuals = list(rng.choice(dev_individuals, size = val_num_individuals, replace = False))\n",
    "val_individuals.sort()\n",
    "    \n",
    "train_individuals = dev_individuals.copy()\n",
    "for i in val_individuals:\n",
    "    train_individuals.remove(i)\n",
    "    \n",
    "print(train_individuals)\n",
    "print(val_individuals)\n",
    "print(dev_individuals)\n",
    "print(test_individuals)"
   ]
  },
  {
   "cell_type": "code",
   "execution_count": 12,
   "id": "ed6d55ef-3574-4052-9506-6c2d9af412cf",
   "metadata": {},
   "outputs": [],
   "source": [
    "# Set up clip ids by split\n",
    "\n",
    "test_clip_ids = []\n",
    "train_clip_ids = []\n",
    "val_clip_ids = []\n",
    "dev_clip_ids = []\n",
    "for clip_id in clip_ids:\n",
    "    individual = clip_id_to_individual_id[clip_id]\n",
    "    if individual in train_individuals:\n",
    "        train_clip_ids.append(clip_id)\n",
    "        dev_clip_ids.append(clip_id)\n",
    "    elif individual in val_individuals:\n",
    "        val_clip_ids.append(clip_id)\n",
    "        dev_clip_ids.append(clip_id)\n",
    "    elif individual in test_individuals:\n",
    "        test_clip_ids.append(clip_id)\n",
    "    \n",
    "train_clip_ids.sort()\n",
    "val_clip_ids.sort()\n",
    "dev_clip_ids.sort()\n",
    "test_clip_ids.sort()\n",
    "    \n",
    "dataset_metadata['clip_ids'] = clip_ids\n",
    "dataset_metadata['train_clip_ids'] = train_clip_ids\n",
    "dataset_metadata['test_clip_ids'] = test_clip_ids\n",
    "dataset_metadata['val_clip_ids'] = val_clip_ids\n",
    "dataset_metadata['dev_clip_ids'] = dev_clip_ids"
   ]
  },
  {
   "cell_type": "markdown",
   "id": "3fca914b-f4d0-4265-b18c-71cd7aca2dc5",
   "metadata": {},
   "source": [
    "## Create dataset-level metadata"
   ]
  },
  {
   "cell_type": "code",
   "execution_count": 13,
   "id": "b9343516-5a19-4882-9e32-1ef628a49667",
   "metadata": {},
   "outputs": [],
   "source": [
    "# for individual in individuals:\n",
    "#     print(annotations[annotations['Bear'] == individual]['Behavior'].value_counts())"
   ]
  },
  {
   "cell_type": "code",
   "execution_count": 13,
   "id": "7ac34de9-3853-44e0-ae8c-2b7bed24f72e",
   "metadata": {},
   "outputs": [],
   "source": [
    "# Favor labels which are long enough in duration to last for the annotation period, and which are abundant\n",
    "\n",
    "obs_beh_to_beh_name = {\n",
    "    'laying' : 'rest',\n",
    "    'walking' : 'walk',\n",
    "    'mixed' : 'unknown',\n",
    "    'adjusting' : 'unknown', \n",
    "    'sitting or standing' : 'rest',\n",
    "    'head shake' : 'head_shake',\n",
    "    'sitting or laying' : 'rest',\n",
    "    'rolling in snow' : 'roll',\n",
    "    'unknown' : 'unknown',\n",
    "    'eating' : 'eat',\n",
    "    'digging' : 'dig',\n",
    "    'grooming' : 'groom',\n",
    "    'interacting' : 'unknown',\n",
    "    'smelling snow' : 'unknown',\n",
    "    'swimming' : 'swim',\n",
    "    'running' : 'run',\n",
    "    'eating snow' : 'eat',\n",
    "    'pouncing' : 'pounce',\n",
    "    'standing' : 'rest',\n",
    "    'running and walking' : 'unknown',\n",
    "    'carrying carcass' : 'unknown',\n",
    "    'breeding' : 'unknown',\n",
    "    'rubbing' : 'unknown',\n",
    "    'jumping' : 'unknown',\n",
    "    'breaking into liar' : 'unknown',\n",
    "    'sticking head out of water' : 'unknown',\n",
    "    'moving ice' : 'unknown',\n",
    "    'catches seal' : 'unknown',\n",
    "    'biting seal' : 'unknown',\n",
    "    'crawling through ice cavern' : 'unknown',\n",
    "    'sticking head into water' : 'unknown',\n",
    "    'hauling out of water' : 'unknown',\n",
    "    'standing up' : 'unknown',\n",
    "    'standing ' : 'rest'\n",
    "}"
   ]
  },
  {
   "cell_type": "code",
   "execution_count": 14,
   "id": "444a3dc3-dfb0-4907-833e-8caf3eb4d88d",
   "metadata": {},
   "outputs": [
    {
     "name": "stdout",
     "output_type": "stream",
     "text": [
      "['unknown', 'dig', 'eat', 'groom', 'head_shake', 'pounce', 'rest', 'roll', 'run', 'swim', 'walk']\n"
     ]
    }
   ],
   "source": [
    "## Integer codes for specific behaviors\n",
    "\n",
    "beh_names = sorted(set([obs_beh_to_beh_name[k] for k in obs_beh_to_beh_name]))\n",
    "beh_names.remove('unknown')\n",
    "beh_names.insert(0, 'unknown')\n",
    "\n",
    "print(beh_names)\n",
    "\n",
    "dataset_metadata['label_names'] = beh_names\n",
    "\n",
    "beh_str_to_int = {name : i for i, name in enumerate(beh_names)}\n",
    "beh_int_to_str = {i : name for i, name in enumerate(beh_names)}"
   ]
  },
  {
   "cell_type": "code",
   "execution_count": 15,
   "id": "f438d48f-0596-4a58-8669-358c9a4cec2d",
   "metadata": {},
   "outputs": [],
   "source": [
    "## clip_data column names\n",
    "\n",
    "clip_column_names = ['AccX', 'AccY', 'AccZ', 'StaticAccX', 'StaticAccY', 'StaticAccZ', 'individual_id', 'label']\n",
    "dataset_metadata['clip_column_names'] = clip_column_names"
   ]
  },
  {
   "cell_type": "code",
   "execution_count": 16,
   "id": "a560ecfd-2ff8-4aff-a58c-76bb31200b86",
   "metadata": {},
   "outputs": [],
   "source": [
    "## Save off dataset level metadata\n",
    "\n",
    "dataset_metadata_fp = os.path.join(formatted_data_dir, 'dataset_metadata.yaml')\n",
    "\n",
    "with open(dataset_metadata_fp, 'w') as file:\n",
    "    yaml.dump(dataset_metadata, file)"
   ]
  },
  {
   "cell_type": "code",
   "execution_count": 17,
   "id": "9181f651-b141-4e91-bfd4-a4a25f5a10c9",
   "metadata": {},
   "outputs": [
    {
     "data": {
      "text/plain": [
       "32458"
      ]
     },
     "execution_count": 17,
     "metadata": {},
     "output_type": "execute_result"
    }
   ],
   "source": [
    "# how many annotations?\n",
    "len(annotations[annotations['Bear'].isin(individuals)])"
   ]
  },
  {
   "cell_type": "markdown",
   "id": "f964b042-2a2b-4690-bdd1-1685991ca77f",
   "metadata": {},
   "source": [
    "## Format Clip Data"
   ]
  },
  {
   "cell_type": "code",
   "execution_count": 18,
   "id": "a81e0e3f-4b1b-4957-a6f9-aca4601efe13",
   "metadata": {},
   "outputs": [],
   "source": [
    "# add annotations to data\n",
    "\n",
    "annotations['Datetime_behavior_starts'] = pd.to_datetime(annotations['Datetime_behavior_starts'])\n",
    "annotations['Datetime_behavior_ends'] = pd.to_datetime(annotations['Datetime_behavior_ends'])\n",
    "data['Datetime'] = pd.to_datetime(data['Datetime'])"
   ]
  },
  {
   "cell_type": "code",
   "execution_count": 19,
   "id": "6170da35-8a0d-4868-87bf-606398543634",
   "metadata": {},
   "outputs": [],
   "source": [
    "# use butterworth filter to extract low and high frequency components\n",
    "def extract_static(series, low_cutoff_freq):\n",
    "    # extract static component\n",
    "    sos = signal.butter(10, low_cutoff_freq, 'low', fs=sr, output='sos')\n",
    "    low_passed_series = signal.sosfilt(sos, series)\n",
    "    remaining_series = series - low_passed_series\n",
    "    return low_passed_series, remaining_series"
   ]
  },
  {
   "cell_type": "code",
   "execution_count": 20,
   "id": "c7bd7e0b-68ed-4814-9977-284f8877a143",
   "metadata": {},
   "outputs": [
    {
     "name": "stdout",
     "output_type": "stream",
     "text": [
      "adding annotations for individual 3\n"
     ]
    },
    {
     "name": "stderr",
     "output_type": "stream",
     "text": [
      "100%|██████████| 1190/1190 [02:38<00:00,  7.51it/s]\n"
     ]
    },
    {
     "name": "stdout",
     "output_type": "stream",
     "text": [
      "processing clips for individual 3\n"
     ]
    },
    {
     "name": "stderr",
     "output_type": "stream",
     "text": [
      "100%|██████████| 47/47 [00:12<00:00,  3.83it/s]\n"
     ]
    },
    {
     "name": "stdout",
     "output_type": "stream",
     "text": [
      "adding annotations for individual 5\n"
     ]
    },
    {
     "name": "stderr",
     "output_type": "stream",
     "text": [
      "100%|██████████| 8051/8051 [18:09<00:00,  7.39it/s]\n"
     ]
    },
    {
     "name": "stdout",
     "output_type": "stream",
     "text": [
      "processing clips for individual 5\n"
     ]
    },
    {
     "name": "stderr",
     "output_type": "stream",
     "text": [
      "100%|██████████| 47/47 [00:12<00:00,  3.82it/s]\n"
     ]
    },
    {
     "name": "stdout",
     "output_type": "stream",
     "text": [
      "adding annotations for individual 6\n"
     ]
    },
    {
     "name": "stderr",
     "output_type": "stream",
     "text": [
      "100%|██████████| 4145/4145 [10:06<00:00,  6.84it/s]\n"
     ]
    },
    {
     "name": "stdout",
     "output_type": "stream",
     "text": [
      "processing clips for individual 6\n"
     ]
    },
    {
     "name": "stderr",
     "output_type": "stream",
     "text": [
      "100%|██████████| 47/47 [00:13<00:00,  3.56it/s]\n"
     ]
    },
    {
     "name": "stdout",
     "output_type": "stream",
     "text": [
      "adding annotations for individual 7\n"
     ]
    },
    {
     "name": "stderr",
     "output_type": "stream",
     "text": [
      "100%|██████████| 4987/4987 [13:08<00:00,  6.33it/s]\n"
     ]
    },
    {
     "name": "stdout",
     "output_type": "stream",
     "text": [
      "processing clips for individual 7\n"
     ]
    },
    {
     "name": "stderr",
     "output_type": "stream",
     "text": [
      "100%|██████████| 47/47 [00:14<00:00,  3.20it/s]\n"
     ]
    },
    {
     "name": "stdout",
     "output_type": "stream",
     "text": [
      "adding annotations for individual 8\n"
     ]
    },
    {
     "name": "stderr",
     "output_type": "stream",
     "text": [
      "100%|██████████| 7561/7561 [14:35<00:00,  8.64it/s]\n"
     ]
    },
    {
     "name": "stdout",
     "output_type": "stream",
     "text": [
      "processing clips for individual 8\n"
     ]
    },
    {
     "name": "stderr",
     "output_type": "stream",
     "text": [
      "100%|██████████| 47/47 [00:09<00:00,  4.72it/s]\n"
     ]
    },
    {
     "name": "stdout",
     "output_type": "stream",
     "text": [
      "adding annotations for individual 9\n"
     ]
    },
    {
     "name": "stderr",
     "output_type": "stream",
     "text": [
      "100%|██████████| 6524/6524 [14:01<00:00,  7.76it/s]\n"
     ]
    },
    {
     "name": "stdout",
     "output_type": "stream",
     "text": [
      "processing clips for individual 9\n"
     ]
    },
    {
     "name": "stderr",
     "output_type": "stream",
     "text": [
      "100%|██████████| 47/47 [00:11<00:00,  4.15it/s]\n"
     ]
    }
   ],
   "source": [
    "#data['beh_label'] = 'unknown'\n",
    "data['beh_int_label'] = 0\n",
    "\n",
    "for individual in individuals:\n",
    "    data_sub = data[data['Bear'] == individual].copy()\n",
    "    annotations_sub = annotations[annotations['Bear'] == individual]\n",
    "    #add annotations for that individual\n",
    "    print(\"adding annotations for individual %d\" % individual)\n",
    "    for i, row in tqdm.tqdm(annotations_sub.iterrows(), total = len(annotations_sub)):\n",
    "        start = row['Datetime_behavior_starts']\n",
    "        end = row['Datetime_behavior_ends']\n",
    "        obs_beh = row['Behavior']\n",
    "        selected = data_sub[(data_sub['Datetime'] >= start) & (data_sub['Datetime'] <= end)].index\n",
    "        #data.loc[selected, 'beh_label'] = obs_beh_to_beh_name[obs_beh]\n",
    "        data_sub.loc[selected, 'beh_int_label'] = beh_str_to_int[obs_beh_to_beh_name[obs_beh]]\n",
    "        \n",
    "    # For each clip, create and save the data in the correct format\n",
    "    print(\"processing clips for individual %d\" % individual)\n",
    "    for clip_id in tqdm.tqdm(clip_ids):\n",
    "        individual_id = clip_id_to_individual_id[clip_id]\n",
    "        if individual_id != individual:\n",
    "            continue\n",
    "            \n",
    "        # load features\n",
    "        data_sub_clip = data_sub[data_sub['clip_id'] == clip_id].copy()\n",
    "        features = np.array(data_sub_clip[['Int_aX', 'Int_aY', 'Int_aZ']])\n",
    "        static_features = np.zeros_like(features)\n",
    "        static_components = np.zeros((np.shape(features)[0], 3))\n",
    "        clip_dur_samples = np.shape(features)[0]\n",
    "\n",
    "        # correct for gravity\n",
    "        for i in range(3): #first 3 channels are acceleration\n",
    "            to_correct = features[:, i]\n",
    "            static, corrected = extract_static(to_correct, 0.3)\n",
    "            features[:, i ] = corrected\n",
    "            static_features[:, i] = static\n",
    "\n",
    "        per_frame_annotations = np.array(data_sub_clip['beh_int_label'])\n",
    "        per_frame_annotations = np.expand_dims(per_frame_annotations, axis = -1)\n",
    "\n",
    "        # insert individual id\n",
    "\n",
    "        per_frame_individual_id = np.full_like(per_frame_annotations, individual_id)\n",
    "\n",
    "        clip_data = np.concatenate([features, static_features, per_frame_individual_id, per_frame_annotations], axis = 1)\n",
    "\n",
    "        clip_data_fp = os.path.join(clip_data_dir, clip_id + '.npy')\n",
    "        np.save(clip_data_fp, clip_data)"
   ]
  },
  {
   "cell_type": "code",
   "execution_count": 21,
   "id": "ad0df782-6131-422c-b9bd-99710a58bf1a",
   "metadata": {},
   "outputs": [
    {
     "data": {
      "text/plain": [
       "0     9042825\n",
       "6     2449571\n",
       "10     433088\n",
       "2       93753\n",
       "7       36084\n",
       "4       11923\n",
       "1        8983\n",
       "9        7286\n",
       "3        3476\n",
       "8        1282\n",
       "5        1010\n",
       "Name: beh_int_label, dtype: int64"
      ]
     },
     "execution_count": 21,
     "metadata": {},
     "output_type": "execute_result"
    }
   ],
   "source": [
    "data_sub['beh_int_label'].value_counts()"
   ]
  },
  {
   "cell_type": "markdown",
   "id": "c9844300-e520-49a9-b975-210caa20a21f",
   "metadata": {},
   "source": [
    "## Check it all looks ok"
   ]
  },
  {
   "cell_type": "code",
   "execution_count": 22,
   "id": "717812e0-af4e-4bd0-96db-5ce83ece61c3",
   "metadata": {},
   "outputs": [],
   "source": [
    "clip_id = clip_ids[5]\n",
    "clip_data_fp = os.path.join(clip_data_dir, clip_id + '.npy')\n",
    "data = np.load(clip_data_fp)"
   ]
  },
  {
   "cell_type": "code",
   "execution_count": 23,
   "id": "77164f71-4257-43b1-ae76-49f1438c836e",
   "metadata": {},
   "outputs": [
    {
     "data": {
      "text/plain": [
       "(1728000, 8)"
      ]
     },
     "execution_count": 23,
     "metadata": {},
     "output_type": "execute_result"
    }
   ],
   "source": [
    "np.shape(data)"
   ]
  },
  {
   "cell_type": "code",
   "execution_count": 24,
   "id": "b1d243b7-ec2e-4bc5-8239-400cc7241953",
   "metadata": {},
   "outputs": [
    {
     "data": {
      "image/png": "[encoded data removed]",
      "text/plain": [
       "<Figure size 432x288 with 1 Axes>"
      ]
     },
     "metadata": {
      "needs_background": "light"
     },
     "output_type": "display_data"
    }
   ],
   "source": [
    "for i in range(np.shape(data)[1]):\n",
    "    plt.plot(data[1000:1100, i])"
   ]
  },
  {
   "cell_type": "code",
   "execution_count": 25,
   "id": "ff4e9c59-9f68-4ee9-9cfd-0d1ca21b5900",
   "metadata": {},
   "outputs": [
    {
     "data": {
      "text/plain": [
       "[<matplotlib.lines.Line2D at 0x7fc35eaf36d0>]"
      ]
     },
     "execution_count": 25,
     "metadata": {},
     "output_type": "execute_result"
    },
    {
     "data": {
      "image/png": "[encoded data removed]",
      "text/plain": [
       "<Figure size 432x288 with 1 Axes>"
      ]
     },
     "metadata": {
      "needs_background": "light"
     },
     "output_type": "display_data"
    }
   ],
   "source": [
    "plt.plot(data[:, 7])"
   ]
  },
  {
   "cell_type": "code",
   "execution_count": 26,
   "id": "19a24677-def1-4223-b0a6-d4d1ffe515fc",
   "metadata": {},
   "outputs": [
    {
     "data": {
      "text/plain": [
       "array([[-5.24999980e+00, -8.49999640e-01, -8.59999990e+00, ...,\n",
       "        -3.00179340e-12,  3.00000000e+00,  0.00000000e+00],\n",
       "       [-5.24999980e+00, -8.99999650e-01, -8.54999970e+00, ...,\n",
       "        -6.07596669e-11,  3.00000000e+00,  0.00000000e+00],\n",
       "       [-5.19999980e+00, -8.99999650e-01, -8.54999970e+00, ...,\n",
       "        -6.14167625e-10,  3.00000000e+00,  0.00000000e+00],\n",
       "       ...,\n",
       "       [-8.05811937e-01, -2.26359896e+00, -1.12345261e+00, ...,\n",
       "        -2.67654699e+00,  3.00000000e+00,  0.00000000e+00],\n",
       "       [-1.36929024e+00, -1.83528455e+00, -8.63163615e-01, ...,\n",
       "        -2.68683598e+00,  3.00000000e+00,  0.00000000e+00],\n",
       "       [-5.83097181e-01, -2.25585532e+00, -8.01118237e-01, ...,\n",
       "        -2.69888136e+00,  3.00000000e+00,  0.00000000e+00]])"
      ]
     },
     "execution_count": 26,
     "metadata": {},
     "output_type": "execute_result"
    }
   ],
   "source": [
    "data"
   ]
  },
  {
   "cell_type": "code",
   "execution_count": null,
   "id": "fa82012a-d31e-4ed9-8539-04e23b495edd",
   "metadata": {},
   "outputs": [],
   "source": []
  }
 ],
 "metadata": {
  "environment": {
   "kernel": "python3",
   "name": "pytorch-gpu.1-9.m82",
   "type": "gcloud",
   "uri": "gcr.io/deeplearning-platform-release/pytorch-gpu.1-9:m82"
  },
  "kernelspec": {
   "display_name": "Python 3",
   "language": "python",
   "name": "python3"
  },
  "language_info": {
   "codemirror_mode": {
    "name": "ipython",
    "version": 3
   },
   "file_extension": ".py",
   "mimetype": "text/x-python",
   "name": "python",
   "nbconvert_exporter": "python",
   "pygments_lexer": "ipython3",
   "version": "3.7.10"
  }
 },
 "nbformat": 4,
 "nbformat_minor": 5
}
