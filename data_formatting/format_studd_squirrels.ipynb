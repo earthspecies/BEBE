{
 "cells": [
  {
   "cell_type": "markdown",
   "id": "86ce8245-b923-42ba-b1cf-b0a8bdb804d4",
   "metadata": {},
   "source": [
    "# Notebook to format data from \"Behavioral classification of low frequency acceleration and temperature data from a free ranging small mammal\", Studd et al (2018).\n",
    "\n",
    "Data can be found [here](https://datadryad.org/stash/dataset/doi:10.5061%2Fdryad.1s1m8r7).\n",
    "\n",
    "Paper is [here](https://onlinelibrary.wiley.com/doi/full/10.1002/ece3.4786)"
   ]
  },
  {
   "cell_type": "markdown",
   "id": "77461baa-2d89-4ddf-b8b9-283f19b3313e",
   "metadata": {},
   "source": [
    "## Setup"
   ]
  },
  {
   "cell_type": "code",
   "execution_count": 1,
   "id": "a9cd11e9-258b-4304-a21d-f826f276b73b",
   "metadata": {},
   "outputs": [],
   "source": [
    "# Outputs:\n",
    "# formatted dataset directory\n",
    "# dataset_metadata (yaml), includes\n",
    "## sample_rate\n",
    "## dataset_label_names (list)\n",
    "## dataset_feature_names (list)\n",
    "## clip_ids (list)\n",
    "# clip_data (directory), includes\n",
    "## data_files (multiple files)"
   ]
  },
  {
   "cell_type": "code",
   "execution_count": 2,
   "id": "7470e077-e978-495a-b349-27cc5a6b2a40",
   "metadata": {},
   "outputs": [],
   "source": [
    "%load_ext autoreload\n",
    "%autoreload 2"
   ]
  },
  {
   "cell_type": "code",
   "execution_count": 3,
   "id": "ec388900-f0ab-4e41-a56b-9597e4f4911f",
   "metadata": {},
   "outputs": [],
   "source": [
    "import os\n",
    "import numpy as np\n",
    "import pandas as pd\n",
    "from matplotlib import pyplot as plt\n",
    "import glob\n",
    "import yaml\n",
    "import scipy.signal as signal\n",
    "import tqdm\n",
    "import matplotlib.dates\n",
    "from datetime import datetime"
   ]
  },
  {
   "cell_type": "code",
   "execution_count": 4,
   "id": "6bc728a2-a91e-4da2-abea-4b57ceb4e818",
   "metadata": {},
   "outputs": [],
   "source": [
    "# Specify data filepaths\n",
    "\n",
    "raw_data_dir = '/home/jupyter/behavior_data_local/data/raw/studd_squirrels'\n",
    "formatted_data_dir = '/home/jupyter/behavior_data_local/data/formatted/studd_squirrels'\n",
    "\n",
    "if not os.path.exists(formatted_data_dir):\n",
    "    os.makedirs(formatted_data_dir)\n",
    "    \n",
    "data_fps = glob.glob(raw_data_dir + '/squirrel*s.csv')\n",
    "\n",
    "clip_data_dir = os.path.join(formatted_data_dir, 'clip_data')\n",
    "if not os.path.exists(clip_data_dir):\n",
    "    os.makedirs(clip_data_dir)"
   ]
  },
  {
   "cell_type": "code",
   "execution_count": 5,
   "id": "98f244e7-ac03-48e2-868a-1b7f7dd15fea",
   "metadata": {},
   "outputs": [],
   "source": [
    "# Dataset metadata\n",
    "dataset_metadata = {}\n",
    "sr = 1\n",
    "dataset_metadata['sr'] = sr ## from dataset documentation\n",
    "dataset_metadata['dataset_name'] = 'studd_squirrels'"
   ]
  },
  {
   "cell_type": "code",
   "execution_count": 6,
   "id": "28faa59e-c409-412b-a23c-8e32ed173cd4",
   "metadata": {},
   "outputs": [],
   "source": [
    "## Data is formatted weirdly-- there is a lot of overlap in timestamps\n",
    "## I need to comb through the various files and extract one of each timestamp\n",
    "## Then, order by timestamp\n",
    "\n",
    "data = pd.read_csv(data_fps[0])\n",
    "\n",
    "for fp in data_fps[1:]:\n",
    "    d = pd.read_csv(fp)\n",
    "    data = data.append(d)"
   ]
  },
  {
   "cell_type": "code",
   "execution_count": 7,
   "id": "74150fc7-4329-44e7-8e71-0223cb5bba84",
   "metadata": {},
   "outputs": [],
   "source": [
    "## We simplify annotations using the BEHAV column \n",
    "## see section 2.2 in their paper\n",
    "##\n",
    "\n",
    "simplify_annot_dict = {'Feed' : 'feeding',\n",
    "                       'notMoving' : 'not_moving',\n",
    "                       'Nest' : 'unknown', # We won't use temperature data\n",
    "                       'CLIP' : 'foraging',\n",
    "                       'StatMove' : 'stationary_movement',\n",
    "                       'RunningMove' : 'traveling',\n",
    "                       'SlowMove' : 'foraging',\n",
    "                       'CCONE' : 'foraging',\n",
    "                       'HorizMove' : 'traveling',\n",
    "                       'VertMove' : 'traveling',\n",
    "                       'DIGG' : 'foraging',\n",
    "                       'OOS' : 'unknown', \n",
    "                       'STO' : 'unknown',\n",
    "                       'vocal' : 'unknown', \n",
    "                       'IPOD' : 'unknown', \n",
    "                       'GRO' : 'unknown', \n",
    "                       'cache' : 'unknown', \n",
    "                       'TSV' : 'unknown', \n",
    "                       'TRAVT' : 'unknown', \n",
    "                       'CMUSH' : 'unknown'\n",
    "                      }\n",
    "\n",
    "data['label'] = data['BEHAV'].copy()\n",
    "data['label'] = data['label'].map(lambda x: simplify_annot_dict[x])"
   ]
  },
  {
   "cell_type": "code",
   "execution_count": 8,
   "id": "56742d88-d690-4c65-bcf8-37ca61e91fc7",
   "metadata": {},
   "outputs": [],
   "source": [
    "## Check that annotations agree when a (time stamp, individual_id) pair is repeated\n",
    "if False:\n",
    "\n",
    "    times = data['TIME'].unique()\n",
    "    for time in tqdm.tqdm(list(times)):\n",
    "        data_at_time = data[data['TIME'] == time]\n",
    "        if len(set(data_at_time['label'])) != 1 and len(set(data_at_time['ID'])) == 1:\n",
    "            print(time)"
   ]
  },
  {
   "cell_type": "code",
   "execution_count": 9,
   "id": "c29001ed-abbd-4023-a9f8-02c844a1e251",
   "metadata": {},
   "outputs": [],
   "source": [
    "# Clean up and keep track of datetime properly\n",
    "\n",
    "data = data.drop_duplicates(subset = ['TIME', 'ID']).copy()\n",
    "\n",
    "data['datetime'] = data['TIME'].map(lambda x: datetime.strptime(x, \"%Y-%m-%d %H:%M:%S\"))\n",
    "\n",
    "data.sort_values(['ID', 'datetime'], inplace = True)\n",
    "data.reset_index(inplace = True)"
   ]
  },
  {
   "cell_type": "code",
   "execution_count": 10,
   "id": "25443717-4c69-419a-ad88-b51138a6dc6b",
   "metadata": {},
   "outputs": [
    {
     "name": "stderr",
     "output_type": "stream",
     "text": [
      "100%|██████████| 33883/33883 [00:33<00:00, 1012.85it/s]\n"
     ]
    }
   ],
   "source": [
    "# If there is a gap in sampling, treat it as a new clip\n",
    "\n",
    "data['clip_id'] = data['OBS'].copy()\n",
    "deployment_id = 0\n",
    "\n",
    "for i, row in tqdm.tqdm(data.iterrows(), total = len(data)):\n",
    "    data.loc[i, 'clip_id']= \"clip_\" + str(deployment_id)\n",
    "    if i<len(data)-1:\n",
    "        if (data.loc[i+1, 'datetime'] - row['datetime']).total_seconds() != 1.0:\n",
    "            deployment_id += 1\n",
    "        elif data.loc[i+1, 'ID'] != row['ID']:\n",
    "            deployment_id += 1\n",
    "        else:\n",
    "            pass\n",
    "    else:\n",
    "        pass"
   ]
  },
  {
   "cell_type": "code",
   "execution_count": 11,
   "id": "9d2ee4b3-dec1-43da-a37c-6564ba00e1ac",
   "metadata": {},
   "outputs": [
    {
     "data": {
      "text/plain": [
       "Text(0.5, 1.0, 'how many samples per deployment?')"
      ]
     },
     "execution_count": 11,
     "metadata": {},
     "output_type": "execute_result"
    },
    {
     "data": {
      "image/png": "[encoded data removed]",
      "text/plain": [
       "<Figure size 432x288 with 1 Axes>"
      ]
     },
     "metadata": {
      "needs_background": "light"
     },
     "output_type": "display_data"
    }
   ],
   "source": [
    "plt.plot(list(data['clip_id'].value_counts()))\n",
    "plt.ylabel('num samples')\n",
    "plt.xlabel('deployment number (reordered)')\n",
    "plt.title(\"how many samples per deployment?\")"
   ]
  },
  {
   "cell_type": "code",
   "execution_count": 12,
   "id": "80ff295b-a782-49f7-8eb4-8d6ffb595945",
   "metadata": {},
   "outputs": [],
   "source": [
    "# Drop deployments with fewer than 60 samples\n",
    "num_samples_cutoff = 60\n",
    "deployments_to_keep = list(data['clip_id'].value_counts()[data['clip_id'].value_counts() >= num_samples_cutoff].index)\n",
    "\n",
    "data_subselected = data[data['clip_id'].isin(deployments_to_keep)].copy()\n",
    "data_subselected.reset_index(inplace = True)"
   ]
  },
  {
   "cell_type": "code",
   "execution_count": 13,
   "id": "7ea20959-639e-4f2c-8efa-945516302110",
   "metadata": {},
   "outputs": [],
   "source": [
    "## Integer codes for individuals\n",
    "\n",
    "clip_id_to_individual_id = {row['clip_id'] : row['ID'] for i, row in data_subselected.iterrows()}\n",
    "\n",
    "dataset_metadata['individual_ids'] = [i for i in range(14)] # There are 14 individuals but only 13 mentioned in the paper\n",
    "dataset_metadata['clip_id_to_individual_id'] = clip_id_to_individual_id\n",
    "\n",
    "individuals = sorted({clip_id_to_individual_id[key] for key in clip_id_to_individual_id})"
   ]
  },
  {
   "cell_type": "code",
   "execution_count": 14,
   "id": "b719e122-9b2d-4fb1-a519-36f58a545c0c",
   "metadata": {},
   "outputs": [],
   "source": [
    "# Set up data splits by individual\n",
    "\n",
    "test_proportion = .25\n",
    "num_individuals = len(individuals)\n",
    "\n",
    "test_num_individuals = int(test_proportion * num_individuals)\n",
    "\n",
    "rng = np.random.default_rng(1280)\n",
    "test_individuals = list(rng.choice(individuals, size = test_num_individuals, replace = False))\n",
    "test_individuals.sort()\n",
    "\n",
    "train_individuals = individuals.copy()\n",
    "for i in test_individuals:\n",
    "    train_individuals.remove(i)"
   ]
  },
  {
   "cell_type": "code",
   "execution_count": 15,
   "id": "ed6d55ef-3574-4052-9506-6c2d9af412cf",
   "metadata": {},
   "outputs": [],
   "source": [
    "# Set up clip ids \n",
    "\n",
    "# Clip ids\n",
    "clip_ids = sorted(set(data_subselected['clip_id']))\n",
    "test_clip_ids = []\n",
    "train_clip_ids = []\n",
    "for i, row in data_subselected.iterrows():\n",
    "    clip_id = row['clip_id']\n",
    "    individual = clip_id_to_individual_id[clip_id]\n",
    "    train_clip_ids.append(clip_id) if individual in train_individuals else test_clip_ids.append(clip_id)\n",
    "    \n",
    "dataset_metadata['clip_ids'] = clip_ids\n",
    "dataset_metadata['train_clip_ids'] = sorted(set(train_clip_ids))\n",
    "dataset_metadata['test_clip_ids'] = sorted(set(test_clip_ids))"
   ]
  },
  {
   "cell_type": "markdown",
   "id": "3fca914b-f4d0-4265-b18c-71cd7aca2dc5",
   "metadata": {},
   "source": [
    "## Create dataset-level metadata"
   ]
  },
  {
   "cell_type": "code",
   "execution_count": 16,
   "id": "444a3dc3-dfb0-4907-833e-8caf3eb4d88d",
   "metadata": {},
   "outputs": [],
   "source": [
    "## Integer codes for specific behaviors\n",
    "\n",
    "# list of behaviors\n",
    "beh_names = {simplify_annot_dict[key] for key in simplify_annot_dict}\n",
    "beh_names.remove('unknown')\n",
    "beh_names = sorted(beh_names)\n",
    "beh_names.insert(0, 'unknown')\n",
    "\n",
    "dataset_metadata['label_names'] = beh_names\n",
    "\n",
    "beh_str_to_int = {name : i for i, name in enumerate(beh_names)}\n",
    "beh_int_to_str = {i : name for i, name in enumerate(beh_names)}\n",
    "\n",
    "data_subselected['int_label'] = data_subselected['label'].map(lambda x: beh_str_to_int[x])"
   ]
  },
  {
   "cell_type": "code",
   "execution_count": 17,
   "id": "f438d48f-0596-4a58-8669-358c9a4cec2d",
   "metadata": {},
   "outputs": [],
   "source": [
    "## clip_data column names\n",
    "\n",
    "clip_column_names = ['AccX', 'AccY', 'AccZ', 'StaticAccX', 'StaticAccY', 'StaticAccZ', 'individual_id', 'label']\n",
    "dataset_metadata['clip_column_names'] = clip_column_names"
   ]
  },
  {
   "cell_type": "code",
   "execution_count": 18,
   "id": "a560ecfd-2ff8-4aff-a58c-76bb31200b86",
   "metadata": {},
   "outputs": [],
   "source": [
    "## Save off dataset level metadata\n",
    "\n",
    "dataset_metadata_fp = os.path.join(formatted_data_dir, 'dataset_metadata.yaml')\n",
    "\n",
    "with open(dataset_metadata_fp, 'w') as file:\n",
    "    yaml.dump(dataset_metadata, file)"
   ]
  },
  {
   "cell_type": "code",
   "execution_count": 19,
   "id": "9181f651-b141-4e91-bfd4-a4a25f5a10c9",
   "metadata": {},
   "outputs": [
    {
     "name": "stdout",
     "output_type": "stream",
     "text": [
      "The dataset has 25375 samples\n"
     ]
    }
   ],
   "source": [
    "print(\"The dataset has %d samples\" % len(data_subselected))"
   ]
  },
  {
   "cell_type": "markdown",
   "id": "f964b042-2a2b-4690-bdd1-1685991ca77f",
   "metadata": {},
   "source": [
    "## Format Clip Data"
   ]
  },
  {
   "cell_type": "code",
   "execution_count": 20,
   "id": "e4ae21e9-df06-469e-8ee8-afb811f6b909",
   "metadata": {},
   "outputs": [],
   "source": [
    "# TYPICALLY: use butterworth filter to extract low and high frequency components\n",
    "# def extract_static(series, low_cutoff_freq):\n",
    "#     # extract static component\n",
    "#     sos = signal.butter(10, low_cutoff_freq, 'low', fs=sr, output='sos')\n",
    "#     low_passed_series = signal.sosfilt(sos, series)\n",
    "#     remaining_series = series - low_passed_series\n",
    "#     return low_passed_series, remaining_series\n",
    "#\n",
    "# For this dataset, we use the provided static components (they do not provide raw data)"
   ]
  },
  {
   "cell_type": "code",
   "execution_count": 21,
   "id": "226d618a-e1ac-4b91-993b-2c1b50e1f7a0",
   "metadata": {},
   "outputs": [],
   "source": [
    "# For each clip, create and save the data in the correct format\n",
    "\n",
    "for clip_id in clip_ids:\n",
    "    # load features\n",
    "    clip_data = data_subselected[data_subselected['clip_id'] == clip_id]\n",
    "    \n",
    "    clip_data_np = np.array(clip_data[['X', 'Y', 'Z', 'Xs', 'Ys', 'Zs', 'ID', 'int_label']])\n",
    "    \n",
    "    clip_data_fp = os.path.join(clip_data_dir, clip_id + '.npy')\n",
    "    np.save(clip_data_fp, clip_data_np)\n",
    "    "
   ]
  },
  {
   "cell_type": "code",
   "execution_count": null,
   "id": "84a72d0f-3dd1-45a5-874e-8afbd4b3022e",
   "metadata": {},
   "outputs": [],
   "source": []
  },
  {
   "cell_type": "markdown",
   "id": "c9844300-e520-49a9-b975-210caa20a21f",
   "metadata": {},
   "source": [
    "## Check it all looks ok"
   ]
  },
  {
   "cell_type": "code",
   "execution_count": 55,
   "id": "717812e0-af4e-4bd0-96db-5ce83ece61c3",
   "metadata": {},
   "outputs": [],
   "source": [
    "clip_id = clip_ids[0]\n",
    "clip_data_fp = os.path.join(clip_data_dir, clip_id + '.npy')\n",
    "data = np.load(clip_data_fp)"
   ]
  },
  {
   "cell_type": "code",
   "execution_count": 56,
   "id": "77164f71-4257-43b1-ae76-49f1438c836e",
   "metadata": {},
   "outputs": [
    {
     "data": {
      "text/plain": [
       "(141, 8)"
      ]
     },
     "execution_count": 56,
     "metadata": {},
     "output_type": "execute_result"
    }
   ],
   "source": [
    "np.shape(data)"
   ]
  },
  {
   "cell_type": "code",
   "execution_count": 57,
   "id": "b1d243b7-ec2e-4bc5-8239-400cc7241953",
   "metadata": {},
   "outputs": [
    {
     "data": {
      "image/png": "[encoded data removed]",
      "text/plain": [
       "<Figure size 432x288 with 1 Axes>"
      ]
     },
     "metadata": {
      "needs_background": "light"
     },
     "output_type": "display_data"
    }
   ],
   "source": [
    "for i in range(np.shape(data)[1]-2):\n",
    "    plt.plot(data[:, i])"
   ]
  },
  {
   "cell_type": "code",
   "execution_count": 58,
   "id": "ff4e9c59-9f68-4ee9-9cfd-0d1ca21b5900",
   "metadata": {},
   "outputs": [
    {
     "data": {
      "text/plain": [
       "[<matplotlib.lines.Line2D at 0x7fee60410410>]"
      ]
     },
     "execution_count": 58,
     "metadata": {},
     "output_type": "execute_result"
    },
    {
     "data": {
      "image/png": "[encoded data removed]",
      "text/plain": [
       "<Figure size 432x288 with 1 Axes>"
      ]
     },
     "metadata": {
      "needs_background": "light"
     },
     "output_type": "display_data"
    }
   ],
   "source": [
    "plt.plot(data[:, 7])"
   ]
  },
  {
   "cell_type": "code",
   "execution_count": null,
   "id": "19a24677-def1-4223-b0a6-d4d1ffe515fc",
   "metadata": {},
   "outputs": [],
   "source": []
  },
  {
   "cell_type": "code",
   "execution_count": 60,
   "id": "6bfabc93-8b6f-422c-b735-de7aaf75616b",
   "metadata": {},
   "outputs": [
    {
     "data": {
      "text/plain": [
       "['unknown',\n",
       " 'feeding',\n",
       " 'foraging',\n",
       " 'not_moving',\n",
       " 'stationary_movement',\n",
       " 'traveling']"
      ]
     },
     "execution_count": 60,
     "metadata": {},
     "output_type": "execute_result"
    }
   ],
   "source": [
    "beh_names"
   ]
  },
  {
   "cell_type": "code",
   "execution_count": null,
   "id": "13d045ce-fe17-4d43-b2df-065bf37fd1e2",
   "metadata": {},
   "outputs": [],
   "source": []
  }
 ],
 "metadata": {
  "environment": {
   "kernel": "python3",
   "name": "pytorch-gpu.1-9.m82",
   "type": "gcloud",
   "uri": "gcr.io/deeplearning-platform-release/pytorch-gpu.1-9:m82"
  },
  "kernelspec": {
   "display_name": "Python 3",
   "language": "python",
   "name": "python3"
  },
  "language_info": {
   "codemirror_mode": {
    "name": "ipython",
    "version": 3
   },
   "file_extension": ".py",
   "mimetype": "text/x-python",
   "name": "python",
   "nbconvert_exporter": "python",
   "pygments_lexer": "ipython3",
   "version": "3.7.10"
  }
 },
 "nbformat": 4,
 "nbformat_minor": 5
}
