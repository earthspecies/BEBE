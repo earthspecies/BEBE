{
 "cells": [
  {
   "cell_type": "markdown",
   "id": "86ce8245-b923-42ba-b1cf-b0a8bdb804d4",
   "metadata": {},
   "source": [
    "# Notebook to format data from \"\"Super machine learning: Improving accuracy and reducing variance of behaviour classification from accelerometry\"\", Ladds et al (2017).\n",
    "\n",
    "Paper can be found [here](https://www.researchgate.net/publication/315746012_Super_machine_learning_Improving_accuracy_and_reducing_variance_of_behaviour_classification_from_accelerometry).\n",
    "\n",
    "[Data](https://github.com/MoniqueLadds/behaviour_accelerometry)"
   ]
  },
  {
   "cell_type": "markdown",
   "id": "77461baa-2d89-4ddf-b8b9-283f19b3313e",
   "metadata": {},
   "source": [
    "## Setup"
   ]
  },
  {
   "cell_type": "code",
   "execution_count": 1,
   "id": "a9cd11e9-258b-4304-a21d-f826f276b73b",
   "metadata": {},
   "outputs": [],
   "source": [
    "# Outputs:\n",
    "# formatted dataset directory\n",
    "# dataset_metadata (yaml), includes\n",
    "## sample_rate\n",
    "## dataset_label_names (list)\n",
    "## dataset_feature_names (list)\n",
    "## clip_ids (list)\n",
    "# clip_data (directory), includes\n",
    "## data_files (multiple files)"
   ]
  },
  {
   "cell_type": "code",
   "execution_count": 2,
   "id": "7470e077-e978-495a-b349-27cc5a6b2a40",
   "metadata": {},
   "outputs": [],
   "source": [
    "%load_ext autoreload\n",
    "%autoreload 2"
   ]
  },
  {
   "cell_type": "code",
   "execution_count": 3,
   "id": "ec388900-f0ab-4e41-a56b-9597e4f4911f",
   "metadata": {},
   "outputs": [],
   "source": [
    "import os\n",
    "import numpy as np\n",
    "import pandas as pd\n",
    "import h5py\n",
    "from matplotlib import pyplot as plt\n",
    "import glob\n",
    "import yaml\n",
    "from sklearn.decomposition import PCA\n",
    "import scipy.signal as signal"
   ]
  },
  {
   "cell_type": "code",
   "execution_count": 4,
   "id": "6bc728a2-a91e-4da2-abea-4b57ceb4e818",
   "metadata": {},
   "outputs": [],
   "source": [
    "# Specify data filepaths\n",
    "\n",
    "raw_data_dir = '/home/jupyter/behavior_data_local/data/raw/ladds_seals/raw_data'\n",
    "formatted_data_dir = '/home/jupyter/behavior_data_local/data/formatted/ladds_seals'\n",
    "\n",
    "if not os.path.exists(formatted_data_dir):\n",
    "    os.makedirs(formatted_data_dir)\n",
    "    \n",
    "data_fps = glob.glob(raw_data_dir + '/*/*.csv')\n",
    "\n",
    "clip_data_dir = os.path.join(formatted_data_dir, 'clip_data')\n",
    "if not os.path.exists(clip_data_dir):\n",
    "    os.makedirs(clip_data_dir)"
   ]
  },
  {
   "cell_type": "code",
   "execution_count": 5,
   "id": "fb6f8923-f7f2-42d3-b1c6-58527bd163e8",
   "metadata": {},
   "outputs": [],
   "source": [
    "# Set up metadata, individuals\n",
    "\n",
    "# Dataset metadata\n",
    "dataset_metadata = {}\n",
    "sr = 25\n",
    "dataset_metadata['sr'] = sr ## from dataset documentation\n",
    "dataset_metadata['dataset_name'] = 'ladds_seals'\n",
    "\n",
    "individuals = []\n",
    "for fp in data_fps:\n",
    "    individual = fp.split('/')[-2]\n",
    "    individuals.append(individual)\n",
    "    \n",
    "# make a list of individuals\n",
    "individuals = list(set(individuals))\n",
    "individuals.sort()"
   ]
  },
  {
   "cell_type": "code",
   "execution_count": 6,
   "id": "b322d0dc-b3d9-48ed-a63e-3ecf137f0d62",
   "metadata": {},
   "outputs": [
    {
     "name": "stdout",
     "output_type": "stream",
     "text": [
      "['abbey', 'bella', 'groucho', 'malie', 'mav', 'maxine', 'rocky']\n",
      "['nelson', 'teiko']\n",
      "['abbey', 'bella', 'groucho', 'malie', 'mav', 'maxine', 'nelson', 'rocky', 'teiko']\n",
      "['miri', 'ronnie', 'sly']\n"
     ]
    }
   ],
   "source": [
    "# Set up data splits by individual\n",
    "\n",
    "test_proportion = .25\n",
    "val_proportion = .2\n",
    "num_individuals = len(individuals)\n",
    "\n",
    "test_num_individuals = int(test_proportion * num_individuals)\n",
    "val_num_individuals = int(val_proportion * num_individuals)\n",
    "\n",
    "rng = np.random.default_rng(1280)\n",
    "test_individuals = list(rng.choice(individuals, size = test_num_individuals, replace = False))\n",
    "test_individuals.sort()\n",
    "\n",
    "dev_individuals = individuals.copy()\n",
    "for i in test_individuals:\n",
    "    dev_individuals.remove(i)\n",
    "    \n",
    "val_individuals = list(rng.choice(dev_individuals, size = val_num_individuals, replace = False))\n",
    "val_individuals.sort()\n",
    "    \n",
    "train_individuals = dev_individuals.copy()\n",
    "for i in val_individuals:\n",
    "    train_individuals.remove(i)\n",
    "    \n",
    "print(train_individuals)\n",
    "print(val_individuals)\n",
    "print(dev_individuals)\n",
    "print(test_individuals)"
   ]
  },
  {
   "cell_type": "code",
   "execution_count": 7,
   "id": "ed6d55ef-3574-4052-9506-6c2d9af412cf",
   "metadata": {},
   "outputs": [],
   "source": [
    "# Set up clip ids\n",
    "\n",
    "# Clip ids\n",
    "clip_ids = []\n",
    "test_clip_ids = []\n",
    "train_clip_ids = []\n",
    "dev_clip_ids = []\n",
    "val_clip_ids = []\n",
    "for fp in data_fps:\n",
    "    individual = fp.split('/')[-2]\n",
    "    fn = fp.split('/')[-1]\n",
    "    clip_id = individual + '-' + fn.split('.')[0]\n",
    "    clip_ids.append(clip_id)\n",
    "    if individual in train_individuals:\n",
    "        train_clip_ids.append(clip_id)\n",
    "        dev_clip_ids.append(clip_id)\n",
    "    elif individual in val_individuals:\n",
    "        val_clip_ids.append(clip_id)\n",
    "        dev_clip_ids.append(clip_id)\n",
    "    elif individual in test_individuals:\n",
    "        test_clip_ids.append(clip_id)\n",
    "    \n",
    "train_clip_ids.sort()\n",
    "val_clip_ids.sort()\n",
    "dev_clip_ids.sort()\n",
    "test_clip_ids.sort()\n",
    "    \n",
    "dataset_metadata['clip_ids'] = clip_ids\n",
    "dataset_metadata['train_clip_ids'] = train_clip_ids\n",
    "dataset_metadata['test_clip_ids'] = test_clip_ids\n",
    "dataset_metadata['val_clip_ids'] = val_clip_ids\n",
    "dataset_metadata['dev_clip_ids'] = dev_clip_ids"
   ]
  },
  {
   "cell_type": "markdown",
   "id": "3fca914b-f4d0-4265-b18c-71cd7aca2dc5",
   "metadata": {},
   "source": [
    "## Create dataset-level metadata"
   ]
  },
  {
   "cell_type": "code",
   "execution_count": 8,
   "id": "7ea20959-639e-4f2c-8efa-945516302110",
   "metadata": {},
   "outputs": [],
   "source": [
    "## Integer codes for individuals\n",
    "\n",
    "individual_to_individual_id = {individual : i for i, individual in enumerate(individuals)}\n",
    "\n",
    "clip_id_to_individual_id = {clip_id : individual_to_individual_id[clip_id.split('-')[0]] for clip_id in clip_ids}\n",
    "\n",
    "dataset_metadata['individual_ids'] = [i for i, individual in enumerate(individuals)] # \n",
    "dataset_metadata['clip_id_to_individual_id'] = clip_id_to_individual_id"
   ]
  },
  {
   "cell_type": "code",
   "execution_count": 9,
   "id": "444a3dc3-dfb0-4907-833e-8caf3eb4d88d",
   "metadata": {},
   "outputs": [
    {
     "name": "stderr",
     "output_type": "stream",
     "text": [
      "/opt/conda/lib/python3.7/site-packages/IPython/core/interactiveshell.py:3444: DtypeWarning: Columns (4) have mixed types.Specify dtype option on import or set low_memory=False.\n",
      "  exec(code_obj, self.user_global_ns, self.user_ns)\n"
     ]
    }
   ],
   "source": [
    "## Integer codes for specific behaviors\n",
    "\n",
    "# list of behaviors (from Jeantet et al 2020)\n",
    "beh_names = ['unknown', \n",
    "             'travelling',\n",
    "             'resting',\n",
    "             'grooming',\n",
    "             'feeding'\n",
    "            ]\n",
    "\n",
    "dataset_metadata['label_names'] = beh_names\n",
    "\n",
    "beh_str_to_int = {name : i for i, name in enumerate(beh_names)}\n",
    "beh_int_to_str = {i : name for i, name in enumerate(beh_names)}\n",
    "\n",
    "# extract directly from the annotations\n",
    "fp = data_fps[0]\n",
    "all_annotations = pd.read_csv(fp)\n",
    "\n",
    "for fp in data_fps[1:]:\n",
    "    all_annotations = all_annotations.append(pd.read_csv(fp))"
   ]
  },
  {
   "cell_type": "code",
   "execution_count": 10,
   "id": "1ed7a11e-5510-4010-89d1-ccf095e2d83a",
   "metadata": {},
   "outputs": [
    {
     "data": {
      "text/plain": [
       "Travelling    502640\n",
       "Foraging      303698\n",
       "Other         213424\n",
       "Resting       179637\n",
       "Grooming       59021\n",
       "Name: type, dtype: int64"
      ]
     },
     "execution_count": 10,
     "metadata": {},
     "output_type": "execute_result"
    }
   ],
   "source": [
    "# What are the observed labels?\n",
    "\n",
    "all_annotations['type'].value_counts()"
   ]
  },
  {
   "cell_type": "code",
   "execution_count": 11,
   "id": "f337e108-e812-43b5-8bd9-614c45e9508c",
   "metadata": {},
   "outputs": [],
   "source": [
    "# Map to beh_labels following labels in published article (4 label scheme)\n",
    "\n",
    "observed_labels_to_beh_label = {'Travelling' : 'travelling',\n",
    "                                'Foraging' : 'feeding',\n",
    "                                'Other' : 'unknown',\n",
    "                                'Resting' : 'resting',\n",
    "                                'Grooming' : 'grooming'\n",
    "                               }"
   ]
  },
  {
   "cell_type": "code",
   "execution_count": 12,
   "id": "f438d48f-0596-4a58-8669-358c9a4cec2d",
   "metadata": {},
   "outputs": [],
   "source": [
    "## clip_data column names\n",
    "\n",
    "clip_column_names = ['AccX', 'AccY', 'AccZ', 'StaticAccX', 'StaticAccY', 'StaticAccZ', 'Depth', 'individual_id', 'label']\n",
    "dataset_metadata['clip_column_names'] = clip_column_names"
   ]
  },
  {
   "cell_type": "code",
   "execution_count": 13,
   "id": "a560ecfd-2ff8-4aff-a58c-76bb31200b86",
   "metadata": {},
   "outputs": [],
   "source": [
    "## Save off dataset level metadata\n",
    "\n",
    "dataset_metadata_fp = os.path.join(formatted_data_dir, 'dataset_metadata.yaml')\n",
    "\n",
    "with open(dataset_metadata_fp, 'w') as file:\n",
    "    yaml.dump(dataset_metadata, file)"
   ]
  },
  {
   "cell_type": "markdown",
   "id": "f964b042-2a2b-4690-bdd1-1685991ca77f",
   "metadata": {},
   "source": [
    "## Format Clip Data"
   ]
  },
  {
   "cell_type": "code",
   "execution_count": 14,
   "id": "81fa123d-88b9-4ccb-84d6-9f9f8767b6dc",
   "metadata": {},
   "outputs": [],
   "source": [
    "# Standard practice is to remove gravitational bias from each accel channel by applying a boxcar filter, then subtract the result\n",
    "\n",
    "def smooth(series, smoothing_cutoff_freq):\n",
    "    # smooth\n",
    "    sos = signal.butter(10, smoothing_cutoff_freq, 'low', fs = sr, output = 'sos')\n",
    "    series = signal.sosfilt(sos, series)\n",
    "    return series\n",
    "\n",
    "def extract_static(series, low_cutoff_freq):\n",
    "    # extract static component\n",
    "    sos = signal.butter(10, low_cutoff_freq, 'low', fs=sr, output='sos')\n",
    "    low_passed_series = signal.sosfilt(sos, series)\n",
    "    remaining_series = series - low_passed_series\n",
    "    return low_passed_series, remaining_series\n",
    "\n",
    "# Convenience function to detect nans.\n",
    "def nan_helper(y):\n",
    "    return np.isnan(y), lambda z: z.nonzero()[0]\n",
    "\n",
    "#Interpolates all nan values of given array\n",
    "def interpolate_nan(y):\n",
    "    nans, x= nan_helper(y)\n",
    "    y[nans]= np.interp(x(nans), x(~nans), y[~nans])\n",
    "    return y"
   ]
  },
  {
   "cell_type": "code",
   "execution_count": 15,
   "id": "226d618a-e1ac-4b91-993b-2c1b50e1f7a0",
   "metadata": {},
   "outputs": [],
   "source": [
    "# For each clip, create and save the data in the correct format\n",
    "\n",
    "for clip_id in clip_ids:\n",
    "    # load features\n",
    "    data_fp = os.path.join(raw_data_dir, clip_id.split('-')[0], '-'.join(clip_id.split('-')[1:]) + '.csv')\n",
    "    \n",
    "    clip_df = pd.read_csv(data_fp)\n",
    "    \n",
    "    clip_dur_samples = len(clip_df)\n",
    "    \n",
    "    # Correct for gravitational bias and remove nans\n",
    "    per_frame_AccX = np.array(clip_df['x'])\n",
    "    per_frame_AccX = interpolate_nan(per_frame_AccX)\n",
    "    #per_frame_AccX = smooth(per_frame_AccX, 20.)\n",
    "    per_frame_StaticAccX, per_frame_AccX = extract_static(per_frame_AccX, 0.3) \n",
    "    \n",
    "    per_frame_AccY = np.array(clip_df['y'])\n",
    "    per_frame_AccY = interpolate_nan(per_frame_AccY)\n",
    "    #per_frame_AccY = smooth(per_frame_AccY, 20.)\n",
    "    per_frame_StaticAccY, per_frame_AccY = extract_static(per_frame_AccY, 0.3) \n",
    "    \n",
    "    per_frame_AccZ = np.array(clip_df['z'])\n",
    "    per_frame_AccZ = interpolate_nan(per_frame_AccZ)\n",
    "    #per_frame_AccZ = smooth(per_frame_AccZ, 20.)\n",
    "    per_frame_StaticAccZ, per_frame_AccZ = extract_static(per_frame_AccZ, 0.3) \n",
    "    \n",
    "    per_frame_Depth = np.array(clip_df['depth'])\n",
    "    per_frame_Depth = interpolate_nan(per_frame_Depth) ## there is a short period of nans in one depth track\n",
    "    per_frame_Depth = np.gradient(per_frame_Depth)\n",
    "    \n",
    "    # reformat\n",
    "    per_frame_AccX = np.expand_dims(per_frame_AccX, axis = -1)\n",
    "    per_frame_AccY = np.expand_dims(per_frame_AccY, axis = -1)\n",
    "    per_frame_AccZ = np.expand_dims(per_frame_AccZ, axis = -1)\n",
    "    per_frame_StaticAccX = np.expand_dims(per_frame_StaticAccX, axis = -1)\n",
    "    per_frame_StaticAccY = np.expand_dims(per_frame_StaticAccY, axis = -1)\n",
    "    per_frame_StaticAccZ = np.expand_dims(per_frame_StaticAccZ, axis = -1)\n",
    "    per_frame_Depth = np.expand_dims(per_frame_Depth, axis = -1)\n",
    "    \n",
    "    per_frame_annotations = np.expand_dims(np.array(clip_df['type'].map(lambda x: beh_str_to_int[observed_labels_to_beh_label[x]])), axis = -1)\n",
    "    \n",
    "    individual_id = clip_id_to_individual_id[clip_id]\n",
    "    per_frame_individual_id = np.full_like(per_frame_annotations, individual_id)\n",
    "    \n",
    "    clip_data = np.concatenate([per_frame_AccX,\n",
    "                                per_frame_AccY, \n",
    "                                per_frame_AccZ,\n",
    "                                per_frame_StaticAccX,\n",
    "                                per_frame_StaticAccY, \n",
    "                                per_frame_StaticAccZ, \n",
    "                                per_frame_Depth, \n",
    "                                per_frame_individual_id, \n",
    "                                per_frame_annotations], axis = 1)\n",
    "    \n",
    "    clip_data_fp = os.path.join(clip_data_dir, clip_id + '.npy')\n",
    "    np.save(clip_data_fp, clip_data)"
   ]
  },
  {
   "cell_type": "markdown",
   "id": "c9844300-e520-49a9-b975-210caa20a21f",
   "metadata": {},
   "source": [
    "## Check it all looks ok"
   ]
  },
  {
   "cell_type": "code",
   "execution_count": 16,
   "id": "717812e0-af4e-4bd0-96db-5ce83ece61c3",
   "metadata": {},
   "outputs": [],
   "source": [
    "clip_id = clip_ids[4]\n",
    "clip_data_fp = os.path.join(clip_data_dir, clip_id + '.npy')\n",
    "data = np.load(clip_data_fp)"
   ]
  },
  {
   "cell_type": "code",
   "execution_count": 17,
   "id": "77164f71-4257-43b1-ae76-49f1438c836e",
   "metadata": {},
   "outputs": [
    {
     "data": {
      "text/plain": [
       "(15736, 9)"
      ]
     },
     "execution_count": 17,
     "metadata": {},
     "output_type": "execute_result"
    }
   ],
   "source": [
    "np.shape(data)"
   ]
  },
  {
   "cell_type": "code",
   "execution_count": 18,
   "id": "b1d243b7-ec2e-4bc5-8239-400cc7241953",
   "metadata": {},
   "outputs": [
    {
     "data": {
      "image/png": "[encoded data removed]",
      "text/plain": [
       "<Figure size 432x288 with 1 Axes>"
      ]
     },
     "metadata": {
      "needs_background": "light"
     },
     "output_type": "display_data"
    }
   ],
   "source": [
    "for i in range(np.shape(data)[1]):\n",
    "    plt.plot(data[1000:11000, i])"
   ]
  },
  {
   "cell_type": "code",
   "execution_count": 21,
   "id": "ff4e9c59-9f68-4ee9-9cfd-0d1ca21b5900",
   "metadata": {},
   "outputs": [
    {
     "data": {
      "text/plain": [
       "[<matplotlib.lines.Line2D at 0x7fa0d9fd3ed0>]"
      ]
     },
     "execution_count": 21,
     "metadata": {},
     "output_type": "execute_result"
    },
    {
     "data": {
      "image/png": "[encoded data removed]",
      "text/plain": [
       "<Figure size 432x288 with 1 Axes>"
      ]
     },
     "metadata": {
      "needs_background": "light"
     },
     "output_type": "display_data"
    }
   ],
   "source": [
    "plt.plot(data[:, 7])"
   ]
  },
  {
   "cell_type": "code",
   "execution_count": 20,
   "id": "ee556324-3aa9-4a7b-94b7-8d4a33889f02",
   "metadata": {},
   "outputs": [
    {
     "data": {
      "text/plain": [
       "[<matplotlib.lines.Line2D at 0x7fa0db03af50>]"
      ]
     },
     "execution_count": 20,
     "metadata": {},
     "output_type": "execute_result"
    },
    {
     "data": {
      "image/png": "[encoded data removed]",
      "text/plain": [
       "<Figure size 432x288 with 1 Axes>"
      ]
     },
     "metadata": {
      "needs_background": "light"
     },
     "output_type": "display_data"
    }
   ],
   "source": [
    "clip_id = clip_ids[13]\n",
    "clip_data_fp = os.path.join(clip_data_dir, clip_id + '.npy')\n",
    "data = np.load(clip_data_fp)\n",
    "plt.plot(data[:, 6])"
   ]
  },
  {
   "cell_type": "code",
   "execution_count": null,
   "id": "ac04655d-dae0-45fe-a577-087a62ac1fa0",
   "metadata": {},
   "outputs": [],
   "source": []
  }
 ],
 "metadata": {
  "environment": {
   "kernel": "python3",
   "name": "pytorch-gpu.1-9.m82",
   "type": "gcloud",
   "uri": "gcr.io/deeplearning-platform-release/pytorch-gpu.1-9:m82"
  },
  "kernelspec": {
   "display_name": "Python 3",
   "language": "python",
   "name": "python3"
  },
  "language_info": {
   "codemirror_mode": {
    "name": "ipython",
    "version": 3
   },
   "file_extension": ".py",
   "mimetype": "text/x-python",
   "name": "python",
   "nbconvert_exporter": "python",
   "pygments_lexer": "ipython3",
   "version": "3.7.10"
  }
 },
 "nbformat": 4,
 "nbformat_minor": 5
}
