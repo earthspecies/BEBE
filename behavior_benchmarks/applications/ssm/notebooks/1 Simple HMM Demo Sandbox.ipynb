{
 "cells": [
  {
   "cell_type": "markdown",
   "metadata": {
    "nbpresent": {
     "id": "5918355f-c759-41e8-9cc9-64baf78695b3"
    }
   },
   "source": [
    "# Hidden Markov Model Demo"
   ]
  },
  {
   "cell_type": "markdown",
   "metadata": {
    "nbpresent": {
     "id": "2b6476b4-bceb-48bc-8957-e943d943c162"
    }
   },
   "source": [
    "A Hidden Markov Model (HMM) is one of the simpler graphical models available in _SSM_. This notebook demonstrates creating and sampling from and HMM using SSM, and fitting an HMM to synthetic data. A full treatment of HMMs is beyond the scope of this notebook, but there are many good resources. [Stanford's CS228 Lecture Notes](https://ermongroup.github.io/cs228-notes/) provide a good introduction to HMMs and other graphical models. [Pattern Recognition and Machine Learning](http://users.isr.ist.utl.pt/~wurmd/Livros/school/Bishop%20-%20Pattern%20Recognition%20And%20Machine%20Learning%20-%20Springer%20%202006.pdf) by Christopher Bishop covers HMMs and how the EM algorithm is used to fit them from data.\n",
    "  \n",
    "  \n",
    "The goal of these notebooks is to introduce state-space models to practitioners who have some familiarity with them, but who may not have used these models in practice before. As such, we've included a few exercises to try as you make your way through the notebooks."
   ]
  },
  {
   "cell_type": "markdown",
   "metadata": {
    "nbpresent": {
     "id": "7aec52f3-b963-4afb-b2a4-444b30304575"
    }
   },
   "source": [
    "## 1. Setup\n",
    "The line `import ssm` imports the package for use. Here, we have also imported a few other packages for plotting."
   ]
  },
  {
   "cell_type": "code",
   "execution_count": 1,
   "metadata": {},
   "outputs": [],
   "source": [
    "%load_ext autoreload\n",
    "%autoreload 2"
   ]
  },
  {
   "cell_type": "code",
   "execution_count": 2,
   "metadata": {
    "nbpresent": {
     "id": "346a61a3-9216-480d-b5b8-39a78782a8c3"
    }
   },
   "outputs": [],
   "source": [
    "import autograd.numpy as np\n",
    "import autograd.numpy.random as npr\n",
    "npr.seed(0)\n",
    "import sys\n",
    "\n",
    "sys.path.append('/home/jupyter/ssm')\n",
    "\n",
    "import ssm\n",
    "from ssm.util import find_permutation\n",
    "from ssm.plots import gradient_cmap, white_to_color_cmap\n",
    "\n",
    "import matplotlib.pyplot as plt\n",
    "%matplotlib inline\n",
    "\n",
    "import seaborn as sns\n",
    "sns.set_style(\"white\")\n",
    "sns.set_context(\"talk\")\n",
    "\n",
    "color_names = [\n",
    "    \"windows blue\",\n",
    "    \"red\",\n",
    "    \"amber\",\n",
    "    \"faded green\",\n",
    "    \"dusty purple\",\n",
    "    \"orange\"\n",
    "    ]\n",
    "\n",
    "colors = sns.xkcd_palette(color_names)\n",
    "cmap = gradient_cmap(colors)\n",
    "\n",
    "\n",
    "# Speficy whether or not to save figures\n",
    "save_figures = True"
   ]
  },
  {
   "cell_type": "markdown",
   "metadata": {
    "nbpresent": {
     "id": "e6b9c054-f24c-4271-85b5-0a8e795dc333"
    }
   },
   "source": [
    "## 2. Create an HMM\n",
    "An HMM consists of a set of hidden state variable, $z$, which can take on one of $K$ values (for our purposes, HMMs will always have discrete states), along with a set of transition probabilities for how the hidden state evolves over time. \n",
    "In other words, we have $z_t \\in \\{1, \\ldots, K\\}$, where $z_t = k$ denotes that the hidden variable is in state $k$ at time $t$.\n",
    "\n",
    "\n",
    "The key assumption in an HMM is that only the most recent state affects the next state. In mathematical terms:\n",
    "\n",
    "$$\n",
    "p(z_t \\mid z_{t-1}, z_{t-2}, \\ldots, z_1) = p(z_t \\mid z_{t-1})\n",
    "$$\n",
    "\n",
    "In an HMM, we don't observe the state itself. Instead, we get a noisy observation of the state at each time step according to some observation model. We'll use $x_t$ to denote the observation at time step $t$. The observation can be a vector or scalar. We'll use $D$ to refer to the dimensionality of the observation. A few of the supported observation models are:\n",
    "\n",
    "1. **Gaussian**: Each discrete state $z_t = k$ is associated with a $D$-dimensional mean $\\mu_k$ and covariance matrix $\\Sigma_k$. Each observation $z_t$ comes from a Gaussian distribution centered at the associated mean, with the corresponding covariance.\n",
    "\n",
    "2. **Student's T**: Same as Gaussian, but the observations come from a Student's-T Distribution.\n",
    "\n",
    "3. **Bernoulli**: Each element of the $D$-dimensional observation is a Bernoulli (binary) random variable. Each discrete state $Z_i$ determines the probability that each element in the observation is nonzero.\n",
    "\n",
    "_Note: SSM supports many other observation models for HMMs. We are in the process of creating full-standalone documentation to describe them. For now, the best way to learn about SSM's other functionality is look at the source code. The observation models are described in observations.py._\n",
    "\n",
    "\n",
    "In the below example, we create an instance of the HMM with 5 discrete states and 2 dimensional observations. We store our HMM instance in a variable called true_hmm with this line:\n",
    "\n",
    "`\n",
    "true_hmm = ssm.HMM(K, D, observations=\"gaussian\")\n",
    "`\n",
    "\n",
    "We then manually set the means for each latent state to make them farther away (this makes them easier to visualize).\n",
    "\n",
    "`\n",
    "true_hmm.observations.mus = 3 * np.column_stack((np.cos(thetas), np.sin(thetas)))\n",
    "`\n",
    "\n",
    "Here we are modifying the `observations` instance associated with the HMM we created above. We could also change the covariance, but for now we're leaving it with the default (identity covariance)."
   ]
  },
  {
   "cell_type": "code",
   "execution_count": 3,
   "metadata": {},
   "outputs": [],
   "source": [
    "obs = np.load('/home/jupyter/behavior_data_local/data/formatted/jeantet_turtles/clip_data/CC-07-107_11-02-2019.npy')"
   ]
  },
  {
   "cell_type": "code",
   "execution_count": 4,
   "metadata": {},
   "outputs": [],
   "source": [
    "obs = obs[:, :10]"
   ]
  },
  {
   "cell_type": "code",
   "execution_count": 5,
   "metadata": {},
   "outputs": [
    {
     "data": {
      "text/plain": [
       "(375100, 10)"
      ]
     },
     "execution_count": 5,
     "metadata": {},
     "output_type": "execute_result"
    }
   ],
   "source": [
    "np.shape(obs)"
   ]
  },
  {
   "cell_type": "code",
   "execution_count": 6,
   "metadata": {},
   "outputs": [],
   "source": [
    "step_size = 10000\n",
    "obs_list = [obs[i* step_size: (i+1)* step_size, :] for i in range(len(obs)//step_size)]"
   ]
  },
  {
   "cell_type": "code",
   "execution_count": 7,
   "metadata": {},
   "outputs": [
    {
     "data": {
      "text/plain": [
       "37"
      ]
     },
     "execution_count": 7,
     "metadata": {},
     "output_type": "execute_result"
    }
   ],
   "source": [
    "len(obs_list)"
   ]
  },
  {
   "cell_type": "code",
   "execution_count": 8,
   "metadata": {},
   "outputs": [],
   "source": [
    "# autoregressive\n",
    "# sticky\n",
    "# stochastic EM"
   ]
  },
  {
   "cell_type": "code",
   "execution_count": null,
   "metadata": {},
   "outputs": [],
   "source": []
  },
  {
   "cell_type": "code",
   "execution_count": null,
   "metadata": {},
   "outputs": [],
   "source": []
  },
  {
   "cell_type": "code",
   "execution_count": 9,
   "metadata": {
    "nbpresent": {
     "id": "564edd16-a99d-4329-8e31-98fe1e1cef79"
    }
   },
   "outputs": [],
   "source": [
    "# Set the parameters of the HMM\n",
    "time_bins = step_size   # number of time bins\n",
    "num_states = 8    # number of discrete states\n",
    "obs_dim = 10       # dimensionality of observation\n",
    "\n",
    "# Make an HMM\n",
    "#true_hmm = ssm.HMM(num_states, obs_dim, observations=\"autoregressive\")\n",
    "\n",
    "# # Manually tweak the means to make them farther apart\n",
    "# thetas = np.linspace(0, 2 * np.pi, num_states, endpoint=False)\n",
    "# true_hmm.observations.mus = 3 * np.column_stack((np.cos(thetas), np.sin(thetas)))"
   ]
  },
  {
   "cell_type": "markdown",
   "metadata": {
    "nbpresent": {
     "id": "846d39dd-47a8-4b70-860f-6943eb17fc7a"
    }
   },
   "source": [
    "## 3. Sample from the HMM\n",
    "\n",
    "We draw samples from an HMM using the `sample` method:  \n",
    "`true_states, obs = true_hmm.sample(time_bins)`.  \n",
    "\n",
    "This returns a tuple $(z, x)$ of the latent states and observations, respectively.\n",
    "In this case, `true_states` will be an array of size $(200,)$ because it contains the discrete state $z_t$ across $200$ time-bins. `obs` will be an array of size $(200, 2)$ because it contains the observations across $200$ time bins, and each observation is two dimensional.\n",
    "We have specified the number of time-steps by passing `time_bins` as the argument to the `sample` method.\n",
    "\n",
    "In the next line, we retrieve the log-likelihood of the data we observed:  \n",
    "`true_ll = true_hmm.log_probability(obs)`  \n",
    "\n",
    "This tells us the relative probability of our observations. In the next section, when we fit an HMM to the data we generated, the true log-likelihood will be helpful for determining if our fitting algorithm succeeded."
   ]
  },
  {
   "cell_type": "code",
   "execution_count": 10,
   "metadata": {
    "nbpresent": {
     "id": "c441ffc6-38cb-4933-97b2-f62897046fd6"
    }
   },
   "outputs": [],
   "source": [
    "# # Sample some data from the HMM\n",
    "# true_states, obs = true_hmm.sample(time_bins)\n",
    "# true_ll = true_hmm.log_probability(obs)"
   ]
  },
  {
   "cell_type": "code",
   "execution_count": 11,
   "metadata": {
    "nbpresent": {
     "id": "c9b4a46a-2f86-4b7f-adb6-70c667a1ac67"
    }
   },
   "outputs": [],
   "source": [
    "# # Plot the observation distributions\n",
    "# lim = .85 * abs(obs).max()\n",
    "# XX, YY = np.meshgrid(np.linspace(-lim, lim, 100), np.linspace(-lim, lim, 100))\n",
    "# data = np.column_stack((XX.ravel(), YY.ravel()))\n",
    "# input = np.zeros((data.shape[0], 0))\n",
    "# mask = np.ones_like(data, dtype=bool)\n",
    "# tag = None\n",
    "# lls = true_hmm.observations.log_likelihoods(data, input, mask, tag)"
   ]
  },
  {
   "cell_type": "markdown",
   "metadata": {
    "nbpresent": {
     "id": "a201a5b1-0cff-4e1f-9367-c25a89ebac41"
    }
   },
   "source": [
    "Below, we plot the samples obtained from the HMM, color-coded according to the underlying state. The solid curves show regions of of equal probability density around each mean. The thin gray lines trace the latent variable as it transitions from one state to another."
   ]
  },
  {
   "cell_type": "code",
   "execution_count": 12,
   "metadata": {
    "nbpresent": {
     "id": "0feabc13-812b-4d5e-ac24-f8327ecb4d27"
    }
   },
   "outputs": [],
   "source": [
    "# plt.figure(figsize=(6, 6))\n",
    "# for k in range(num_states):\n",
    "#     plt.contour(XX, YY, np.exp(lls[:,k]).reshape(XX.shape), cmap=white_to_color_cmap(colors[k]))\n",
    "#     plt.plot(obs[true_states==k, 0], obs[true_states==k, 1], 'o', mfc=colors[k], mec='none', ms=4)\n",
    "    \n",
    "# plt.plot(obs[:,0], obs[:,1], '-k', lw=1, alpha=.25)\n",
    "# plt.xlabel(\"$x_1$\")\n",
    "# plt.ylabel(\"$x_2$\")\n",
    "# plt.title(\"Observation Distributions\")\n",
    "\n",
    "# if save_figures:\n",
    "#     plt.savefig(\"hmm_1.pdf\")"
   ]
  },
  {
   "cell_type": "markdown",
   "metadata": {
    "nbpresent": {
     "id": "a58c7a02-2777-4af8-982f-e279bd3bbeb6"
    }
   },
   "source": [
    "Below, we visualize each component of of the observation variable as a time series. The colors correspond to the latent state. The dotted lines represent the \"true\" values of the observation variable (the mean) while the solid lines are the actual observations sampled from the HMM."
   ]
  },
  {
   "cell_type": "code",
   "execution_count": 13,
   "metadata": {
    "nbpresent": {
     "id": "1ec5ac27-2d23-4660-8702-4156f8ffdf39"
    }
   },
   "outputs": [],
   "source": [
    "# # Plot the data and the smoothed data\n",
    "# lim = 1.05 * abs(obs).max()\n",
    "# plt.figure(figsize=(8, 6))\n",
    "# plt.imshow(true_states[None,:],\n",
    "#            aspect=\"auto\",\n",
    "#            cmap=cmap,\n",
    "#            vmin=0,\n",
    "#            vmax=len(colors)-1,\n",
    "#            extent=(0, time_bins, -lim, (obs_dim)*lim))\n",
    "\n",
    "# Ey = true_hmm.observations.mus[true_states]\n",
    "# for d in range(obs_dim):\n",
    "#     plt.plot(obs[:,d] + lim * d, '-k')\n",
    "#     plt.plot(Ey[:,d] + lim * d, ':k')\n",
    "\n",
    "# plt.xlim(0, time_bins)\n",
    "# plt.xlabel(\"time\")\n",
    "# plt.yticks(lim * np.arange(obs_dim), [\"$x_{}$\".format(d+1) for d in range(obs_dim)])\n",
    "\n",
    "# plt.title(\"Simulated data from an HMM\")\n",
    "\n",
    "# plt.tight_layout()\n",
    "\n",
    "# if save_figures:\n",
    "#     plt.savefig(\"hmm_2.pdf\")"
   ]
  },
  {
   "cell_type": "code",
   "execution_count": 14,
   "metadata": {
    "nbpresent": {
     "id": "74a8cecc-d647-4921-bb7e-4037d89065ea"
    }
   },
   "outputs": [],
   "source": [
    "# Your code here: create an HMM with Bernoulli observations\n",
    "# ---------------------------------------------------------\n"
   ]
  },
  {
   "cell_type": "markdown",
   "metadata": {
    "nbpresent": {
     "id": "759699ce-fffa-4667-90af-267122e39f01"
    }
   },
   "source": [
    "# 4. Fit an HMM to synthetic data\n",
    "This is all fine, but so far we haven't done anything that useful. It's far more interesting to learn an HMM from data. In the following cells, we'll use the synthetic data we generated above to fit an HMM from scratch. This is done in the following lines:\n",
    "\n",
    "`\n",
    "hmm = ssm.HMM(num_states, obs_dim, observations=\"gaussian\")\n",
    "hmm_lls = hmm.fit(obs, method=\"em\", num_em_iters=N_iters)\n",
    "`\n",
    "\n",
    "In the first line, we create a new HMM instance called `hmm` with a gaussian observation model, as in the previous case. Because we haven't specified anything, the transition probabilities and observation means will be randomly initialized. In the next line, we use the `fit` method to learn the transition probabilities and observation means from data. We set the method to `em` (expectation maximization) and specify the maximum number of iterations which will be used to fit the data. The `fit` method returns a numpy array which shows the log-likelihood of the data over time. We then plot this and see that the EM algorithm quickly converges."
   ]
  },
  {
   "cell_type": "code",
   "execution_count": 82,
   "metadata": {
    "nbpresent": {
     "id": "d9064e18-01ca-43d4-a866-1b796cc94297"
    }
   },
   "outputs": [
    {
     "data": {
      "application/vnd.jupyter.widget-view+json": {
       "model_id": "2608f8983b4c4d80bc2d3f3903fbe7ba",
       "version_major": 2,
       "version_minor": 0
      },
      "text/plain": [
       "  0%|          | 0/30 [00:00<?, ?it/s]"
      ]
     },
     "metadata": {},
     "output_type": "display_data"
    },
    {
     "data": {
      "image/png": "[encoded data removed]",
      "text/plain": [
       "<Figure size 432x288 with 1 Axes>"
      ]
     },
     "metadata": {},
     "output_type": "display_data"
    }
   ],
   "source": [
    "# data = obs # Treat observations generated above as synthetic data.\n",
    "N_iters = 30\n",
    "\n",
    "## testing the constrained transitions class\n",
    "hmm = ssm.HMM(num_states,\n",
    "              obs_dim,\n",
    "              observations=\"no_input_ar\",\n",
    "              transitions = \"sticky\", # Unclear if this has a meaningful affect when using ar model\n",
    "              transition_kwargs = {\"alpha\" : 1, \"kappa\" : 0}\n",
    "             )\n",
    "\n",
    "hmm_lls = hmm.fit(obs_list, \n",
    "                  method=\"em\", #\"stochastic_em\", \n",
    "                  num_iters=N_iters, \n",
    "                  #num_epochs = 30,\n",
    "                  init_method=\"kmeans\",\n",
    "                  #step_size=0.0001\n",
    "                 )\n",
    "\n",
    "plt.plot(hmm_lls, label=\"EM\")\n",
    "#plt.plot([0, N_iters], true_ll * np.ones(2), ':k', label=\"True\")\n",
    "plt.xlabel(\"EM Iteration\")\n",
    "plt.ylabel(\"Log Probability\")\n",
    "plt.legend(loc=\"lower right\")\n",
    "plt.show()"
   ]
  },
  {
   "cell_type": "code",
   "execution_count": null,
   "metadata": {},
   "outputs": [],
   "source": []
  },
  {
   "cell_type": "markdown",
   "metadata": {
    "nbpresent": {
     "id": "f9335974-fcee-4a2e-827f-b22a12ed688f"
    }
   },
   "source": [
    "The below cell is a bit subtle. In the first section, we sampled from the HMM and stored the resulting latent state $z$ in a variable called `state`. \n",
    "Now, we are treating our observations from the previous section as data, and seeing whether we can infer the true state given only the observations. However, there is no guarantee that the states we learn correspond to the original states from the true HMM. In order to account for this, we need to find a permutation of the states of our new HMM so that they align with the states of the true HMM from the prior section. This is done in the following two lines:\n",
    "\n",
    "`most_likely_states = hmm.most_likely_states(obs)\n",
    "hmm.permute(find_permutation(true_states, most_likely_states))\n",
    "`  \n",
    "  \n",
    "In the first line, we use the `most_likely_states` method to infer the most likely latent states given the observations.  In the second line we call the `find_permutation` function the permutation that best matches the true state. We then use the `permute` method on our `hmm` instance to permute its states accordingly.\n",
    "\n"
   ]
  },
  {
   "cell_type": "code",
   "execution_count": 22,
   "metadata": {
    "nbpresent": {
     "id": "35947156-e3a9-44d6-ab79-aea66d05cda7"
    }
   },
   "outputs": [],
   "source": [
    "# # Find a permutation of the states that best matches the true and inferred states\n",
    "# most_likely_states = hmm.most_likely_states(obs)\n",
    "# hmm.permute(find_permutation(true_states, most_likely_states))"
   ]
  },
  {
   "cell_type": "code",
   "execution_count": 71,
   "metadata": {},
   "outputs": [
    {
     "data": {
      "text/plain": [
       "<matplotlib.image.AxesImage at 0x7f9ecc522bd0>"
      ]
     },
     "execution_count": 71,
     "metadata": {},
     "output_type": "execute_result"
    },
    {
     "data": {
      "image/png": "[encoded data removed]",
      "text/plain": [
       "<Figure size 432x288 with 1 Axes>"
      ]
     },
     "metadata": {},
     "output_type": "display_data"
    }
   ],
   "source": [
    "#gaussian with kappa = 1000\n",
    "plt.imshow(hmm.transitions.transition_matrix)"
   ]
  },
  {
   "cell_type": "markdown",
   "metadata": {
    "nbpresent": {
     "id": "03d4efcd-66a8-4e0b-8558-6df4658382d4"
    }
   },
   "source": [
    "Below, we plot the inferred states ($z_{\\mathrm{inferred}}$) and the true states ($z_{\\mathrm{true}}$) over time. We see that the two match very closely, but not exactly. The model sometimes has difficulty inferring the state if we only observe that state for a very short time."
   ]
  },
  {
   "cell_type": "code",
   "execution_count": 77,
   "metadata": {},
   "outputs": [
    {
     "data": {
      "text/plain": [
       "<matplotlib.image.AxesImage at 0x7f9ecc364090>"
      ]
     },
     "execution_count": 77,
     "metadata": {},
     "output_type": "execute_result"
    },
    {
     "data": {
      "image/png": "[encoded data removed]",
      "text/plain": [
       "<Figure size 432x288 with 1 Axes>"
      ]
     },
     "metadata": {},
     "output_type": "display_data"
    }
   ],
   "source": [
    "#alpha = 100, kappa = 0\n",
    "plt.imshow(hmm.transitions.transition_matrix)"
   ]
  },
  {
   "cell_type": "code",
   "execution_count": 73,
   "metadata": {},
   "outputs": [
    {
     "data": {
      "image/png": "[encoded data removed]",
      "text/plain": [
       "<Figure size 576x288 with 2 Axes>"
      ]
     },
     "metadata": {},
     "output_type": "display_data"
    }
   ],
   "source": [
    "# Plot the true and inferred discrete states\n",
    "hmm_z = hmm.most_likely_states(obs_list[0])\n",
    "\n",
    "plt.figure(figsize=(8, 4))\n",
    "plt.subplot(211)\n",
    "#plt.imshow(true_states[None,:], aspect=\"auto\", cmap=cmap, vmin=0, vmax=len(colors)-1)\n",
    "plt.imshow(hmm_z[None,:], aspect=\"auto\", cmap=cmap, vmin=0, vmax=len(colors)-1)\n",
    "plt.xlim(0, time_bins)\n",
    "plt.ylabel(\"$z_{\\\\mathrm{true}}$\")\n",
    "plt.yticks([])\n",
    "\n",
    "plt.subplot(212)\n",
    "plt.imshow(hmm_z[None,:], aspect=\"auto\", cmap=cmap, vmin=0, vmax=len(colors)-1)\n",
    "plt.xlim(0, time_bins)\n",
    "plt.ylabel(\"$z_{\\\\mathrm{inferred}}$\")\n",
    "plt.yticks([])\n",
    "plt.xlabel(\"time\")\n",
    "\n",
    "plt.tight_layout()"
   ]
  },
  {
   "cell_type": "code",
   "execution_count": 78,
   "metadata": {},
   "outputs": [
    {
     "data": {
      "image/png": "[encoded data removed]",
      "text/plain": [
       "<Figure size 576x288 with 2 Axes>"
      ]
     },
     "metadata": {},
     "output_type": "display_data"
    }
   ],
   "source": [
    "# Plot the true and inferred discrete states\n",
    "hmm_z = hmm.most_likely_states(obs_list[0])\n",
    "\n",
    "plt.figure(figsize=(8, 4))\n",
    "plt.subplot(211)\n",
    "#plt.imshow(true_states[None,:], aspect=\"auto\", cmap=cmap, vmin=0, vmax=len(colors)-1)\n",
    "plt.imshow(hmm_z[None,:], aspect=\"auto\", cmap=cmap, vmin=0, vmax=len(colors)-1)\n",
    "plt.xlim(0, time_bins)\n",
    "plt.ylabel(\"$z_{\\\\mathrm{true}}$\")\n",
    "plt.yticks([])\n",
    "\n",
    "plt.subplot(212)\n",
    "plt.imshow(hmm_z[None,:], aspect=\"auto\", cmap=cmap, vmin=0, vmax=len(colors)-1)\n",
    "plt.xlim(0, time_bins)\n",
    "plt.ylabel(\"$z_{\\\\mathrm{inferred}}$\")\n",
    "plt.yticks([])\n",
    "plt.xlabel(\"time\")\n",
    "\n",
    "plt.tight_layout()"
   ]
  },
  {
   "cell_type": "code",
   "execution_count": 67,
   "metadata": {
    "nbpresent": {
     "id": "84b20c35-4187-4b2b-8287-c99212f17a4b"
    }
   },
   "outputs": [
    {
     "data": {
      "image/png": "[encoded data removed]",
      "text/plain": [
       "<Figure size 576x288 with 2 Axes>"
      ]
     },
     "metadata": {},
     "output_type": "display_data"
    }
   ],
   "source": [
    "# Plot the true and inferred discrete states\n",
    "# standard\n",
    "hmm_z = hmm.most_likely_states(obs_list[0])\n",
    "\n",
    "plt.figure(figsize=(8, 4))\n",
    "plt.subplot(211)\n",
    "#plt.imshow(true_states[None,:], aspect=\"auto\", cmap=cmap, vmin=0, vmax=len(colors)-1)\n",
    "plt.imshow(hmm_z[None,:], aspect=\"auto\", cmap=cmap, vmin=0, vmax=len(colors)-1)\n",
    "plt.xlim(0, time_bins)\n",
    "plt.ylabel(\"$z_{\\\\mathrm{true}}$\")\n",
    "plt.yticks([])\n",
    "\n",
    "plt.subplot(212)\n",
    "plt.imshow(hmm_z[None,:], aspect=\"auto\", cmap=cmap, vmin=0, vmax=len(colors)-1)\n",
    "plt.xlim(0, time_bins)\n",
    "plt.ylabel(\"$z_{\\\\mathrm{inferred}}$\")\n",
    "plt.yticks([])\n",
    "plt.xlabel(\"time\")\n",
    "\n",
    "plt.tight_layout()"
   ]
  },
  {
   "cell_type": "code",
   "execution_count": 31,
   "metadata": {},
   "outputs": [
    {
     "data": {
      "image/png": "[encoded data removed]",
      "text/plain": [
       "<Figure size 576x288 with 2 Axes>"
      ]
     },
     "metadata": {},
     "output_type": "display_data"
    }
   ],
   "source": [
    "# Plot the true and inferred discrete states\n",
    "# sticky alpha =1 kappa = 0 -- should be same as default\n",
    "hmm_z = hmm.most_likely_states(obs_list[0])\n",
    "\n",
    "plt.figure(figsize=(8, 4))\n",
    "plt.subplot(211)\n",
    "#plt.imshow(true_states[None,:], aspect=\"auto\", cmap=cmap, vmin=0, vmax=len(colors)-1)\n",
    "plt.imshow(hmm_z[None,:], aspect=\"auto\", cmap=cmap, vmin=0, vmax=len(colors)-1)\n",
    "plt.xlim(0, time_bins)\n",
    "plt.ylabel(\"$z_{\\\\mathrm{true}}$\")\n",
    "plt.yticks([])\n",
    "\n",
    "plt.subplot(212)\n",
    "plt.imshow(hmm_z[None,:], aspect=\"auto\", cmap=cmap, vmin=0, vmax=len(colors)-1)\n",
    "plt.xlim(0, time_bins)\n",
    "plt.ylabel(\"$z_{\\\\mathrm{inferred}}$\")\n",
    "plt.yticks([])\n",
    "plt.xlabel(\"time\")\n",
    "\n",
    "plt.tight_layout()"
   ]
  },
  {
   "cell_type": "code",
   "execution_count": null,
   "metadata": {},
   "outputs": [],
   "source": [
    "# Plot the true and inferred discrete states\n",
    "# first sticky alpha =1 kappa = 0\n",
    "hmm_z = hmm.most_likely_states(obs_list[0])\n",
    "\n",
    "plt.figure(figsize=(8, 4))\n",
    "plt.subplot(211)\n",
    "#plt.imshow(true_states[None,:], aspect=\"auto\", cmap=cmap, vmin=0, vmax=len(colors)-1)\n",
    "plt.imshow(hmm_z[None,:], aspect=\"auto\", cmap=cmap, vmin=0, vmax=len(colors)-1)\n",
    "plt.xlim(0, time_bins)\n",
    "plt.ylabel(\"$z_{\\\\mathrm{true}}$\")\n",
    "plt.yticks([])\n",
    "\n",
    "plt.subplot(212)\n",
    "plt.imshow(hmm_z[None,:], aspect=\"auto\", cmap=cmap, vmin=0, vmax=len(colors)-1)\n",
    "plt.xlim(0, time_bins)\n",
    "plt.ylabel(\"$z_{\\\\mathrm{inferred}}$\")\n",
    "plt.yticks([])\n",
    "plt.xlabel(\"time\")\n",
    "\n",
    "plt.tight_layout()"
   ]
  },
  {
   "cell_type": "code",
   "execution_count": null,
   "metadata": {},
   "outputs": [],
   "source": []
  },
  {
   "cell_type": "code",
   "execution_count": null,
   "metadata": {},
   "outputs": [],
   "source": []
  },
  {
   "cell_type": "code",
   "execution_count": null,
   "metadata": {},
   "outputs": [],
   "source": []
  },
  {
   "cell_type": "markdown",
   "metadata": {
    "nbpresent": {
     "id": "747730ff-ab9a-4aff-9da4-6e7b203d2aa6"
    }
   },
   "source": [
    "### 4.1. Visualize the Transition Matrices\n",
    "The dynamics of the hidden state in an HMM are specified by the transition probabilities $p(z_t \\mid z_{t-1})$. It's standard to pack these probabilities into a stochastic matrix $A$ where $A_{ij} = p(z_t = j \\mid z_{t-1} = i)$.\n",
    "\n",
    "In SSM, we can access the transition matrices using `hmm.transitions.transition` matrix. In the following two lines, we retrives the transition matrices for the true HMM, as well as the HMM we learned from the data, and compare them visually."
   ]
  },
  {
   "cell_type": "code",
   "execution_count": 45,
   "metadata": {
    "nbpresent": {
     "id": "67124d1b-c672-47a1-92cc-5538012bcd48"
    }
   },
   "outputs": [
    {
     "data": {
      "image/png": "[encoded data removed]",
      "text/plain": [
       "<Figure size 576x288 with 3 Axes>"
      ]
     },
     "metadata": {},
     "output_type": "display_data"
    }
   ],
   "source": [
    "#true_transition_mat = true_hmm.transitions.transition_matrix\n",
    "learned_transition_mat = hmm.transitions.transition_matrix\n",
    "\n",
    "fig = plt.figure(figsize=(8, 4))\n",
    "plt.subplot(121)\n",
    "im = plt.imshow(learned_transition_mat, cmap='gray')\n",
    "plt.title(\"True Transition Matrix\")\n",
    "\n",
    "plt.subplot(122)\n",
    "im = plt.imshow(learned_transition_mat, cmap='gray')\n",
    "plt.title(\"Learned Transition Matrix\")\n",
    "\n",
    "cbar_ax = fig.add_axes([0.95, 0.15, 0.05, 0.7])\n",
    "fig.colorbar(im, cax=cbar_ax)\n",
    "plt.show()\n"
   ]
  },
  {
   "cell_type": "markdown",
   "metadata": {
    "nbpresent": {
     "id": "e358a229-5f00-4a6c-9b13-011d2afff30c"
    }
   },
   "source": [
    "### Excercise 4.2: Distribution of State Durations\n",
    "Derive the theoretical distribution over state durations. Do the state durations we observe ($Z_{true}$ in section 4) match the theory? If you're stuck, imagine that the system starts in state $1$, i.e $z_1 = 1$. What's the probability that $z_2 = 1$? From here, you might be able to work forwards in time.\n",
    "\n",
    "When done, check if your derivation matches what we find in the section below."
   ]
  },
  {
   "cell_type": "code",
   "execution_count": null,
   "metadata": {},
   "outputs": [],
   "source": []
  },
  {
   "cell_type": "markdown",
   "metadata": {
    "nbpresent": {
     "id": "2a96744b-592a-4642-904f-27793f67d790"
    }
   },
   "source": [
    "### 4.3: Visualize State Durations\n"
   ]
  },
  {
   "cell_type": "code",
   "execution_count": 19,
   "metadata": {
    "nbpresent": {
     "id": "30e94251-7e72-42f6-9329-7f43500f5e05"
    }
   },
   "outputs": [
    {
     "data": {
      "image/png": "[encoded data removed]",
      "text/plain": [
       "<Figure size 576x288 with 1 Axes>"
      ]
     },
     "metadata": {},
     "output_type": "display_data"
    },
    {
     "data": {
      "image/png": "[encoded data removed]",
      "text/plain": [
       "<Figure size 576x288 with 1 Axes>"
      ]
     },
     "metadata": {},
     "output_type": "display_data"
    }
   ],
   "source": [
    "true_state_list, true_durations = ssm.util.rle(true_states)\n",
    "inferred_state_list, inferred_durations = ssm.util.rle(hmm_z)\n",
    "\n",
    "# Rearrange the lists of durations to be a nested list where\n",
    "# the nth inner list is a list of durations for state n\n",
    "true_durs_stacked = []\n",
    "inf_durs_stacked = []\n",
    "for s in range(num_states):\n",
    "    true_durs_stacked.append(true_durations[true_state_list == s])\n",
    "    inf_durs_stacked.append(inferred_durations[inferred_state_list == s])\n",
    "    \n",
    "fig = plt.figure(figsize=(8, 4))\n",
    "plt.hist(true_durs_stacked, label=['state ' + str(s) for s in range(num_states)])\n",
    "plt.xlabel('Duration')\n",
    "plt.ylabel('Frequency')\n",
    "plt.legend()\n",
    "plt.title('Histogram of True State Durations')\n",
    "\n",
    "fig = plt.figure(figsize=(8, 4))\n",
    "plt.hist(inf_durs_stacked, label=['state ' + str(s) for s in range(num_states)])\n",
    "plt.xlabel('Duration')\n",
    "plt.ylabel('Frequency')\n",
    "plt.legend()\n",
    "plt.title('Histogram of Inferred State Durations')\n",
    "\n",
    "plt.show()"
   ]
  },
  {
   "cell_type": "markdown",
   "metadata": {
    "nbpresent": {
     "id": "a36b24e0-89ce-401a-af4e-0303955ab0be"
    }
   },
   "source": [
    "### Excercise 4.4: Fit an HMM using more data\n",
    "We see that the above histograms do not match each other as closely as we might expect. They also don't match the theoretical distriubtion of durations all that closely (see Exercise 4.2). Part of the reason for this is that we have sampled from a relatively small number of time steps.   \n",
    "\n",
    "Try modifying the `time_bins` variable to sample for more time-steps (say 2000 or so).\n",
    "Then, re-run the analysis above. Because of the larger time frame, some of the plots above may become hard to read, but the histogram of durations should more closely match what we expect."
   ]
  },
  {
   "cell_type": "markdown",
   "metadata": {
    "nbpresent": {
     "id": "d93612d4-88a5-4c39-8d8d-b1ec4865ab70"
    }
   },
   "source": [
    "### Exercise 4.5: Mismatched Observations\n",
    "Imagine a scenario where the true data comes from an HMM with Student's T observations, but you fit an HMM with Gaussian observations. What might you expect to happen?  \n",
    "\n",
    "You can try simulating this: modify the code in Section 2 so that we create and HMM with Student's T observations. Then re-run the cells in Section 4, which will fit an HMM with Gaussian observations to the observed data. What do you see?"
   ]
  }
 ],
 "metadata": {
  "@webio": {
   "lastCommId": null,
   "lastKernelId": null
  },
  "environment": {
   "kernel": "python3",
   "name": "pytorch-gpu.1-9.m82",
   "type": "gcloud",
   "uri": "gcr.io/deeplearning-platform-release/pytorch-gpu.1-9:m82"
  },
  "kernelspec": {
   "display_name": "Python 3",
   "language": "python",
   "name": "python3"
  },
  "language_info": {
   "codemirror_mode": {
    "name": "ipython",
    "version": 3
   },
   "file_extension": ".py",
   "mimetype": "text/x-python",
   "name": "python",
   "nbconvert_exporter": "python",
   "pygments_lexer": "ipython3",
   "version": "3.7.10"
  }
 },
 "nbformat": 4,
 "nbformat_minor": 4
}
