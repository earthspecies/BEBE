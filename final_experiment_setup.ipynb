{
 "cells": [
  {
   "cell_type": "code",
   "execution_count": 1,
   "id": "8536d317-0afe-4470-b4ce-73bbb8758039",
   "metadata": {},
   "outputs": [],
   "source": [
    "import os\n",
    "import yaml\n",
    "import itertools\n",
    "import numpy as np\n",
    "from pathlib import Path\n",
    "import BEBE.evaluation.evaluation as evaluation\n",
    "from tqdm import tqdm"
   ]
  },
  {
   "cell_type": "code",
   "execution_count": 2,
   "id": "f2e248c1-7aac-43ae-adf4-f58444ffc493",
   "metadata": {},
   "outputs": [],
   "source": [
    "final_experiment_name = \"turtles_wavelet_kmeans\"\n",
    "model_selection_dir = Path('/home/jupyter/behavior_benchmarks_experiments/turtles_wavelet_kmeans_model_selection')\n",
    "final_experiment_dir_parent = \"/home/jupyter/behavior_benchmarks_experiments\"\n",
    "final_experiment_dir = os.path.join(final_experiment_dir_parent, final_experiment_name)\n",
    "\n",
    "if not os.path.exists(final_experiment_dir):\n",
    "    os.makedirs(final_experiment_dir)"
   ]
  },
  {
   "cell_type": "code",
   "execution_count": 3,
   "id": "304ea9b3-f808-445f-962c-07b0380e10cd",
   "metadata": {},
   "outputs": [
    {
     "name": "stderr",
     "output_type": "stream",
     "text": [
      "4it [00:00, 17.46it/s]\n"
     ]
    }
   ],
   "source": [
    "# Re-run evaluation in the new style\n",
    "for x in tqdm(model_selection_dir.glob('*/config.yaml')):\n",
    "    with open(x, 'r') as f:\n",
    "        config = yaml.safe_load(f)\n",
    "    if config['unsupervised']:\n",
    "        eval_fp = Path(x.parent, 'dev_eval.yaml')\n",
    "    else:\n",
    "        eval_fp = Path(x.parent, 'val_eval.yaml')\n",
    "    if os.path.exists(eval_fp):\n",
    "        with open(eval_fp, 'r') as f:\n",
    "            evaluation_file = yaml.safe_load(f)\n",
    "        if 'individual_scores' not in evaluation_file:\n",
    "            evaluation.generate_evaluations(config)"
   ]
  },
  {
   "cell_type": "code",
   "execution_count": 4,
   "id": "5188690b-1126-4b61-a062-d0f6605f57e4",
   "metadata": {},
   "outputs": [],
   "source": [
    "if config['unsupervised']:\n",
    "    results = model_selection_dir.glob('**/dev_eval.yaml')\n",
    "else:\n",
    "    results = model_selection_dir.glob('**/val_eval.yaml')\n",
    "best_experiment = None\n",
    "best_f1 = -1\n",
    "best_experiment_legacy = None\n",
    "best_f1_legacy = -1\n",
    "for x in results:\n",
    "    with open(x, 'r') as f:\n",
    "        y = yaml.safe_load(f)\n",
    "    mean_f1 = np.mean(y['individual_scores']['macro_f1s'])\n",
    "    if 'supervised_scores' in y:\n",
    "        f1 = y['supervised_scores']['classification_f1_macro']\n",
    "    else:\n",
    "        f1 = y['MAP_scores']['MAP_classification_f1_macro']\n",
    "    if mean_f1 > best_f1:\n",
    "        best_f1 = mean_f1\n",
    "        best_experiment = x.parent\n",
    "    if f1 > best_f1_legacy:\n",
    "        best_f1_legacy = f1\n",
    "        best_experiment_legacy = x.parent\n",
    "        \n",
    "if best_experiment != best_experiment_legacy:\n",
    "    print(\"hyperparam selection does not agree!\")"
   ]
  },
  {
   "cell_type": "code",
   "execution_count": 5,
   "id": "260358fc-d83c-41f8-bebc-4beaf1473fbe",
   "metadata": {},
   "outputs": [],
   "source": [
    "selected_config_fp = str(best_experiment) + '.yaml'\n",
    "n_experiments = 3"
   ]
  },
  {
   "cell_type": "code",
   "execution_count": 6,
   "id": "ad45f94f-d9eb-47b1-a458-b61255ec3671",
   "metadata": {},
   "outputs": [],
   "source": [
    "with open(selected_config_fp, 'r') as f:\n",
    "    config = yaml.safe_load(f)"
   ]
  },
  {
   "cell_type": "code",
   "execution_count": 7,
   "id": "0cfcead3-e40b-4c33-852f-33f93580fdaa",
   "metadata": {},
   "outputs": [],
   "source": [
    "config['use_val_in_train'] = True\n",
    "config['output_parent_dir'] = final_experiment_dir\n",
    "\n",
    "config_fps = []\n",
    "for i in range(n_experiments):\n",
    "    experiment_name = 'trial_' + str(i)\n",
    "    config['experiment_name'] = experiment_name\n",
    "    target_filename = experiment_name + '.yaml'\n",
    "    target_fp = os.path.join(final_experiment_dir, target_filename)                       \n",
    "    with open(target_fp, 'w') as file:\n",
    "        yaml.dump(config, file)\n",
    "    config_fps.append(target_fp)"
   ]
  },
  {
   "cell_type": "code",
   "execution_count": 8,
   "id": "a4ef46f8-3b90-4a44-ab19-006408186de1",
   "metadata": {},
   "outputs": [
    {
     "name": "stdout",
     "output_type": "stream",
     "text": [
      "python full_experiment.py --config /home/jupyter/behavior_benchmarks_experiments/turtles_wavelet_kmeans/trial_0.yaml; python full_experiment.py --config /home/jupyter/behavior_benchmarks_experiments/turtles_wavelet_kmeans/trial_1.yaml; python full_experiment.py --config /home/jupyter/behavior_benchmarks_experiments/turtles_wavelet_kmeans/trial_2.yaml; \n"
     ]
    }
   ],
   "source": [
    "output = \"\"\n",
    "for config_fp in config_fps:\n",
    "    output += \"python full_experiment.py --config \" + config_fp + \"; \"\n",
    "\n",
    "print(output)"
   ]
  },
  {
   "cell_type": "code",
   "execution_count": null,
   "id": "659fd60a-dc0c-4ac0-935e-df1c3e4d1d87",
   "metadata": {},
   "outputs": [],
   "source": []
  }
 ],
 "metadata": {
  "environment": {
   "kernel": "python3",
   "name": "pytorch-gpu.1-9.m82",
   "type": "gcloud",
   "uri": "gcr.io/deeplearning-platform-release/pytorch-gpu.1-9:m82"
  },
  "kernelspec": {
   "display_name": "Python 3",
   "language": "python",
   "name": "python3"
  },
  "language_info": {
   "codemirror_mode": {
    "name": "ipython",
    "version": 3
   },
   "file_extension": ".py",
   "mimetype": "text/x-python",
   "name": "python",
   "nbconvert_exporter": "python",
   "pygments_lexer": "ipython3",
   "version": "3.7.10"
  }
 },
 "nbformat": 4,
 "nbformat_minor": 5
}
