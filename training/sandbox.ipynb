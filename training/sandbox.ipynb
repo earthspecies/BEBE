{
 "cells": [
  {
   "cell_type": "code",
   "execution_count": 7,
   "id": "8b62f753-a12d-4f8a-b358-da4f87da7afe",
   "metadata": {},
   "outputs": [],
   "source": [
    "%load_ext autoreload\n",
    "%autoreload 2"
   ]
  },
  {
   "cell_type": "code",
   "execution_count": 8,
   "id": "3e7ba091-5031-455a-b5cf-f69b6cc16b5d",
   "metadata": {},
   "outputs": [],
   "source": [
    "import sys\n",
    "#import behavior_benchmarks as bb\n",
    "sys.path.append('/home/jupyter')"
   ]
  },
  {
   "cell_type": "code",
   "execution_count": null,
   "id": "3a1f5f64-1383-4d0d-a632-46a8e7dc33d8",
   "metadata": {},
   "outputs": [
    {
     "name": "stdout",
     "output_type": "stream",
     "text": [
      "Initialization 0\n"
     ]
    }
   ],
   "source": [
    "%run train_model.py"
   ]
  },
  {
   "cell_type": "code",
   "execution_count": 3,
   "id": "ef5af63d-d4b6-43f6-a5ee-aabf6cd48f94",
   "metadata": {},
   "outputs": [],
   "source": [
    "config = {'experiment_name' : 'gmm_test',\n",
    "          'model' : 'gmm',\n",
    "          'num_components' : 8,\n",
    "          'dataset_name' : 'jeantet_turtles',\n",
    "          'output_dir_general' : '/home/jupyter/behavior_benchmarks_outputs/',\n",
    "          'data_dir_general' : '/home/jupyter/behavior_data_local/data/formatted/'}"
   ]
  },
  {
   "cell_type": "code",
   "execution_count": 26,
   "id": "9ba11f96-0c36-4153-bc27-46b99f34c33b",
   "metadata": {},
   "outputs": [
    {
     "data": {
      "text/plain": [
       "{'clip_column_names': ['AccX',\n",
       "  'AccY',\n",
       "  'AccZ',\n",
       "  'GyrX',\n",
       "  'GyrY',\n",
       "  'GyrZ',\n",
       "  'Depth',\n",
       "  'individual_id',\n",
       "  'label'],\n",
       " 'clip_id_to_individual_id': {'CC-07-107_11-02-2019': 0,\n",
       "  'CC-07-108_11-02-2019': 1,\n",
       "  'CC-07-115_13-05-2019': 2,\n",
       "  'CC-07-115_14-05-2019': 3,\n",
       "  'CC-07-47_14-02-2018': 4,\n",
       "  'CC-07-48_04-10-2018': 5,\n",
       "  'CC-07-48_06-10-2018': 6,\n",
       "  'CC-07-48_08-04-2019_1': 7,\n",
       "  'CC-07-48_08-04-2019_2': 7,\n",
       "  'CC-07-48_08-04-2019_3': 7,\n",
       "  'CC-07-48_08-10-2018': 8,\n",
       "  'CC-07-48_10-10-2018': 9,\n",
       "  'CC-07-48_18-02-2019': 10,\n",
       "  'CC-07-48_22-05-2018': 11,\n",
       "  'CC-07-48_26-05-2018': 12,\n",
       "  'CC-07-59_20-05-2018': 13},\n",
       " 'clip_ids': ['CC-07-108_11-02-2019',\n",
       "  'CC-07-115_13-05-2019',\n",
       "  'CC-07-47_14-02-2018',\n",
       "  'CC-07-48_26-05-2018',\n",
       "  'CC-07-107_11-02-2019',\n",
       "  'CC-07-115_14-05-2019',\n",
       "  'CC-07-48_08-10-2018',\n",
       "  'CC-07-48_08-04-2019_1',\n",
       "  'CC-07-48_22-05-2018',\n",
       "  'CC-07-48_06-10-2018',\n",
       "  'CC-07-48_08-04-2019_3',\n",
       "  'CC-07-48_08-04-2019_2',\n",
       "  'CC-07-48_10-10-2018',\n",
       "  'CC-07-48_04-10-2018',\n",
       "  'CC-07-48_18-02-2019',\n",
       "  'CC-07-59_20-05-2018'],\n",
       " 'dataset_name': 'jeantet_turtles',\n",
       " 'individual_ids': [0, 1, 2, 3, 4, 5, 6, 7, 8, 9, 10, 11, 12, 13],\n",
       " 'label_names': ['unknown',\n",
       "  'breathing',\n",
       "  'feeding',\n",
       "  'gliding',\n",
       "  'resting',\n",
       "  'scratching',\n",
       "  'staying_at_surface',\n",
       "  'swimming'],\n",
       " 'sr': 20}"
      ]
     },
     "execution_count": 26,
     "metadata": {},
     "output_type": "execute_result"
    }
   ],
   "source": [
    "dl.metadata"
   ]
  },
  {
   "cell_type": "code",
   "execution_count": null,
   "id": "88e2fa30-3ff9-4676-8ddf-c2e8fbd0ec20",
   "metadata": {},
   "outputs": [],
   "source": []
  }
 ],
 "metadata": {
  "environment": {
   "kernel": "python3",
   "name": "pytorch-gpu.1-9.m82",
   "type": "gcloud",
   "uri": "gcr.io/deeplearning-platform-release/pytorch-gpu.1-9:m82"
  },
  "kernelspec": {
   "display_name": "Python 3",
   "language": "python",
   "name": "python3"
  },
  "language_info": {
   "codemirror_mode": {
    "name": "ipython",
    "version": 3
   },
   "file_extension": ".py",
   "mimetype": "text/x-python",
   "name": "python",
   "nbconvert_exporter": "python",
   "pygments_lexer": "ipython3",
   "version": "3.7.10"
  }
 },
 "nbformat": 4,
 "nbformat_minor": 5
}
