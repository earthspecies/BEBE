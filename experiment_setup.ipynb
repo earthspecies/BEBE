{
 "cells": [
  {
   "cell_type": "markdown",
   "id": "1e98a7a3-26d3-4d8e-9dc6-0426d0222b7d",
   "metadata": {},
   "source": [
    "Programmatic way to generate config files for a given hyperparameter sweep."
   ]
  },
  {
   "cell_type": "code",
   "execution_count": 1,
   "id": "62d679a7-755b-43f0-8546-f4fcbe5fdf51",
   "metadata": {},
   "outputs": [],
   "source": [
    "import os\n",
    "import yaml\n",
    "import itertools\n",
    "import numpy as np"
   ]
  },
  {
   "cell_type": "code",
   "execution_count": 2,
   "id": "d95986d9-efd0-49a6-a217-60eecac445f2",
   "metadata": {},
   "outputs": [],
   "source": [
    "# Specify a directory for experiment\n",
    "\n",
    "sweep_experiment_name = \"sweep_whales_may11_s4\"\n",
    "sweep_experiment_dir_parent = \"/home/jupyter\"\n",
    "sweep_experiment_dir = os.path.join(sweep_experiment_dir_parent, sweep_experiment_name)\n",
    "\n",
    "if not os.path.exists(sweep_experiment_dir):\n",
    "    os.makedirs(sweep_experiment_dir)"
   ]
  },
  {
   "cell_type": "code",
   "execution_count": 3,
   "id": "b71a7653-4aef-41e4-97f3-7097fb4ff310",
   "metadata": {},
   "outputs": [],
   "source": [
    "# Specify model type\n",
    "\n",
    "model_type = 'supervised_nn'"
   ]
  },
  {
   "cell_type": "code",
   "execution_count": 4,
   "id": "1f49dc7d-886e-4163-a06f-e1ac82214e51",
   "metadata": {},
   "outputs": [],
   "source": [
    "# workhorse to generate combinations of parameters\n",
    "\n",
    "def generate_choice_combinations(d):\n",
    "    # d is a dict of lists\n",
    "    # require that the keys of d are all of the same type (eg strings)\n",
    "    # output a dict {i:{key:value} for i in range(N)}\n",
    "    # which contains all possible combinations of values (encoded in the lists)\n",
    "    # and N = product of len(d[key]), for all keys in d\n",
    "    sorted_keys = sorted(d.keys())\n",
    "    choices_lex = []\n",
    "    num_choices = {}\n",
    "    for key in sorted_keys:\n",
    "        num_choices[key] = len(d[key])\n",
    "        choices_lex.append(list(range(num_choices[key])))\n",
    "    choices_cartesian = list(itertools.product(*choices_lex))\n",
    "    configs_cartesian = {}\n",
    "    for i, choices in enumerate(choices_cartesian):\n",
    "        configs_cartesian[i] = {sorted_keys[j]: d[sorted_keys[j]][choices[j]] for j in range(len(sorted_keys))}\n",
    "        \n",
    "    return configs_cartesian"
   ]
  },
  {
   "cell_type": "code",
   "execution_count": 5,
   "id": "060353b6-48c0-4f0c-9df5-0269d262c26f",
   "metadata": {},
   "outputs": [],
   "source": [
    "# Specify general parameters\n",
    "\n",
    "sweep_config = {}\n",
    "sweep_config['input_vars'] = [['AccX',\n",
    "                               'AccY',\n",
    "                               'AccZ',\n",
    "                               'StaticAccX',\n",
    "                               'StaticAccY',\n",
    "                               'StaticAccZ',\n",
    "                               'Depth', \n",
    "                               'Speed']]\n",
    "\n",
    "\n",
    "# Dogs: \n",
    "# sweep_config['input_vars'] = [['AccX_Back',\n",
    "#                                'AccY_Back',\n",
    "#                                'AccZ_Back', \n",
    "#                                'AccX_Neck', \n",
    "#                                'AccY_Neck', \n",
    "#                                'AccZ_Neck', \n",
    "#                                'StaticAccX_Back', \n",
    "#                                'StaticAccY_Back', \n",
    "#                                'StaticAccZ_Back', \n",
    "#                                'StaticAccX_Neck',\n",
    "#                                'StaticAccY_Neck', \n",
    "#                                'StaticAccZ_Neck',\n",
    "#                                'GyrX_Back', \n",
    "#                                'GyrY_Back', \n",
    "#                                'GyrZ_Back', \n",
    "#                                'GyrX_Neck', \n",
    "#                                'GyrY_Neck', \n",
    "#                                'GyrZ_Neck']]\n",
    "sweep_config['dataset_dir'] = ['/home/jupyter/behavior_data_local/data/formatted/friedlaender_whales']\n",
    "sweep_config['model'] = [model_type] # do not change\n",
    "sweep_config['output_parent_dir'] = [sweep_experiment_dir]\n",
    "sweep_config['num_clusters'] = [5]\n",
    "sweep_config['read_latents'] = [False] # should be either [True] or [False]\n",
    "#sweep_config['data_latents_fp_glob'] = [['/home/jupyter/behavior_benchmarks_outputs/vehkaoja_dogs/whiten_dogs/latents/*.npy']]\n",
    "\n",
    "summary = sweep_config.copy()"
   ]
  },
  {
   "cell_type": "code",
   "execution_count": 6,
   "id": "8e7f672d-fcee-4c55-bc0e-94c9696cc1a3",
   "metadata": {},
   "outputs": [],
   "source": [
    "# Specify model-specific parameters\n",
    "\n",
    "if model_type == 'kmeans':\n",
    "    sweep_model_config = {}\n",
    "    \n",
    "    summary['kmeans_config'] = sweep_model_config\n",
    "\n",
    "if model_type == 'eskmeans':\n",
    "    sweep_model_config = {}\n",
    "    sweep_model_config['boundary_init_lambda'] = [15.0]\n",
    "    sweep_model_config['embed_length'] = [20]\n",
    "    sweep_model_config['landmark_hop_size'] = [10]\n",
    "    sweep_model_config['n_epochs'] = [10]\n",
    "    sweep_model_config['n_landmarks_max'] = [40]\n",
    "    sweep_model_config['batch_size'] = [1]\n",
    "    sweep_model_config['time_power_term'] = [.9, .85]\n",
    "    \n",
    "    summary['eskmeans_config'] = sweep_model_config\n",
    "    \n",
    "if model_type == 'vame':\n",
    "    sweep_model_config = {}\n",
    "    sweep_model_config['batch_size'] = [1024]\n",
    "    sweep_model_config['max_epochs'] = [100]\n",
    "    sweep_model_config['beta'] = [0] ## Scalar multiplied by KL loss\n",
    "    sweep_model_config['zdims'] = [5, 10, 30] ## Latent space dimensionality\n",
    "    sweep_model_config['learning_rate'] = [0.0005]\n",
    "    sweep_model_config['time_window_sec'] = [2, 5]\n",
    "    sweep_model_config['prediction_decoder'] = [1] ## Whether to predict future steps\n",
    "    sweep_model_config['prediction_sec'] = [2, 5] ## How much to predict after encoded window\n",
    "    sweep_model_config['scheduler'] = [1]\n",
    "    sweep_model_config['scheduler_step_size'] = [100]\n",
    "    sweep_model_config['scheduler_gamma'] = [0.2]\n",
    "    sweep_model_config['kmeans_lambda'] = [0.1]\n",
    "    sweep_model_config['downsizing_factor'] = [8]\n",
    "    \n",
    "    summary['vame_config'] = sweep_model_config\n",
    "    \n",
    "if model_type == 'hmm':\n",
    "    sweep_model_config = {}\n",
    "    sweep_model_config['time_bins'] = [2500] \n",
    "    sweep_model_config['prior_wait_sec'] = [5., 10.] \n",
    "    sweep_model_config['sticky_prior_strength'] = [0., 1., 2.]\n",
    "    sweep_model_config['N_iters'] = [50]\n",
    "    sweep_model_config['lags'] = [1, 2]\n",
    "        \n",
    "    summary['vame_config'] = sweep_model_config\n",
    "    \n",
    "if model_type == 'supervised_nn':\n",
    "    sweep_model_config = {}\n",
    "    sweep_model_config['downsizing_factor'] = [2048]\n",
    "    sweep_model_config['lr'] = [1e-2, 1e-3]\n",
    "    sweep_model_config['weight_decay'] = [5e-3, 1e-3, 1e-4]\n",
    "    sweep_model_config['n_epochs'] = [150]\n",
    "    sweep_model_config['hidden_size'] = [8, 16, 32]\n",
    "    sweep_model_config['num_layers'] = [4, 8, 16]\n",
    "    sweep_model_config['temporal_window_samples'] = [8192] # used for training only, to subselect\n",
    "    sweep_model_config['batch_size'] = [8]\n",
    "    sweep_model_config['dropout'] = [0]\n",
    "    sweep_model_config['rescale_param'] = [0]\n",
    "    sweep_model_config['jitter_scale'] = [0, 0.02]\n",
    "    sweep_model_config['blur_scale'] = [0, 0.02]\n",
    "    sweep_model_config['weight_factor'] = [0.5]\n",
    "    sweep_model_config['sparse_annotations'] = [False]\n",
    "    \n",
    "    summary['supervised_nn_config'] = sweep_model_config\n",
    "    \n",
    "if model_type == 'vq_cpc':\n",
    "    sweep_model_config = {'predict_proportion' : [0.5], \n",
    "                          'encoder_kernel_width' : [7],\n",
    "                          'downsizing_factor' : [256], \n",
    "                          'lr' : [4e-4], \n",
    "                          'n_epochs' : [300], \n",
    "                          'conv_stack_hidden_size' : [64], \n",
    "                          'temporal_window_samples' : [1024],\n",
    "                          'batch_size' : [64], \n",
    "                          'conv_stack_depth' : [12], \n",
    "                          'z_dim' : [8], \n",
    "                          'c_dim' : [16], \n",
    "                          'warmup_epochs' : [150], \n",
    "                          'initial_lr' : [1e-5],\n",
    "                          'blur_scale' : [0.], \n",
    "                          'jitter_scale' : [0.],\n",
    "                          'pooling_factor' : [32]}\n",
    "        \n",
    "    summary['vq_cpc_config'] = sweep_model_config"
   ]
  },
  {
   "cell_type": "code",
   "execution_count": 7,
   "id": "3fe4b729-aee7-4f11-9d44-9294e9820ccb",
   "metadata": {},
   "outputs": [],
   "source": [
    "# Specify evaluation parameters\n",
    "sweep_evaluation_config = {}\n",
    "sweep_evaluation_config['boundary_tolerance_sec'] = [1.]\n",
    "\n",
    "summary['evaluation'] = sweep_evaluation_config"
   ]
  },
  {
   "cell_type": "code",
   "execution_count": 8,
   "id": "43d59aea-074a-4f94-8180-c5e80cd46ab8",
   "metadata": {},
   "outputs": [],
   "source": [
    "# Summarize what the experiment is about and save off\n",
    "\n",
    "summary['summary'] = \"sweep simple gru whales\"\n",
    "target_filename = sweep_experiment_name + \"_summary\" + '.yaml'\n",
    "target_fp = os.path.join(sweep_experiment_dir, target_filename)                       \n",
    "with open(target_fp, 'w') as file:\n",
    "    yaml.dump(summary, file)"
   ]
  },
  {
   "cell_type": "code",
   "execution_count": 9,
   "id": "ba17300e-4d6a-4db4-b637-1c74e655bb7c",
   "metadata": {},
   "outputs": [],
   "source": [
    "# Make cartesian combinations for sub-dictionaries\n",
    "sweep_evaluation_cartesian = generate_choice_combinations(sweep_evaluation_config)\n",
    "sweep_model_cartesian = generate_choice_combinations(sweep_model_config)"
   ]
  },
  {
   "cell_type": "code",
   "execution_count": 10,
   "id": "64215a1b-4d8b-40ac-abfe-3f99b2547b62",
   "metadata": {},
   "outputs": [],
   "source": [
    "# Incorporate into main sweep dict\n",
    "\n",
    "model_config_key_name = model_type + \"_config\"\n",
    "sweep_config[model_config_key_name] = [sweep_model_cartesian[key] for key in sweep_model_cartesian]\n",
    "\n",
    "sweep_config['evaluation'] = [sweep_evaluation_cartesian[key] for key in sweep_evaluation_cartesian]"
   ]
  },
  {
   "cell_type": "code",
   "execution_count": 11,
   "id": "f6f5a46e-3313-48c9-816d-eee7f7028afa",
   "metadata": {},
   "outputs": [],
   "source": [
    "sweep_config_cartesian = generate_choice_combinations(sweep_config)"
   ]
  },
  {
   "cell_type": "code",
   "execution_count": 12,
   "id": "fee49b14-ee0a-49a0-9f1c-feaf386a87ca",
   "metadata": {},
   "outputs": [],
   "source": [
    "# number so as to get experiment names\n",
    "for i in sweep_config_cartesian.keys():\n",
    "    experiment_name = sweep_experiment_name + \"_\" + str(i)\n",
    "    sweep_config_cartesian[i]['experiment_name'] = experiment_name"
   ]
  },
  {
   "cell_type": "code",
   "execution_count": 13,
   "id": "a09a9744-038c-4e11-89d7-f985787d0c0a",
   "metadata": {},
   "outputs": [],
   "source": [
    "# save off configs:\n",
    "\n",
    "config_fps = []\n",
    "for i in sweep_config_cartesian.keys():\n",
    "    config = sweep_config_cartesian[i]\n",
    "    target_filename = config['experiment_name'] + '.yaml'\n",
    "    target_fp = os.path.join(sweep_experiment_dir, target_filename)\n",
    "    config_fps.append(target_fp)                         \n",
    "    with open(target_fp, 'w') as file:\n",
    "        yaml.dump(config, file)"
   ]
  },
  {
   "cell_type": "code",
   "execution_count": 14,
   "id": "925dd766-2dda-4456-9451-cb19fd23b0e6",
   "metadata": {},
   "outputs": [],
   "source": [
    "# random search?\n",
    "\n",
    "randomize = True\n",
    "\n",
    "if randomize:\n",
    "    config_fps = np.random.permutation(config_fps)"
   ]
  },
  {
   "cell_type": "code",
   "execution_count": 15,
   "id": "e1502533-2b0a-4436-8236-761c042333a0",
   "metadata": {},
   "outputs": [
    {
     "name": "stdout",
     "output_type": "stream",
     "text": [
      "python full_experiment.py --config /home/jupyter/sweep_whales_may11_s4/sweep_whales_may11_s4_141.yaml; python full_experiment.py --config /home/jupyter/sweep_whales_may11_s4/sweep_whales_may11_s4_194.yaml; python full_experiment.py --config /home/jupyter/sweep_whales_may11_s4/sweep_whales_may11_s4_104.yaml; python full_experiment.py --config /home/jupyter/sweep_whales_may11_s4/sweep_whales_may11_s4_116.yaml; python full_experiment.py --config /home/jupyter/sweep_whales_may11_s4/sweep_whales_may11_s4_168.yaml; python full_experiment.py --config /home/jupyter/sweep_whales_may11_s4/sweep_whales_may11_s4_55.yaml; python full_experiment.py --config /home/jupyter/sweep_whales_may11_s4/sweep_whales_may11_s4_170.yaml; python full_experiment.py --config /home/jupyter/sweep_whales_may11_s4/sweep_whales_may11_s4_4.yaml; python full_experiment.py --config /home/jupyter/sweep_whales_may11_s4/sweep_whales_may11_s4_124.yaml; python full_experiment.py --config /home/jupyter/sweep_whales_may11_s4/sweep_whales_may11_s4_192.yaml; python full_experiment.py --config /home/jupyter/sweep_whales_may11_s4/sweep_whales_may11_s4_7.yaml; python full_experiment.py --config /home/jupyter/sweep_whales_may11_s4/sweep_whales_may11_s4_85.yaml; python full_experiment.py --config /home/jupyter/sweep_whales_may11_s4/sweep_whales_may11_s4_74.yaml; python full_experiment.py --config /home/jupyter/sweep_whales_may11_s4/sweep_whales_may11_s4_61.yaml; python full_experiment.py --config /home/jupyter/sweep_whales_may11_s4/sweep_whales_may11_s4_59.yaml; python full_experiment.py --config /home/jupyter/sweep_whales_may11_s4/sweep_whales_may11_s4_78.yaml; python full_experiment.py --config /home/jupyter/sweep_whales_may11_s4/sweep_whales_may11_s4_95.yaml; python full_experiment.py --config /home/jupyter/sweep_whales_may11_s4/sweep_whales_may11_s4_6.yaml; python full_experiment.py --config /home/jupyter/sweep_whales_may11_s4/sweep_whales_may11_s4_117.yaml; python full_experiment.py --config /home/jupyter/sweep_whales_may11_s4/sweep_whales_may11_s4_105.yaml; python full_experiment.py --config /home/jupyter/sweep_whales_may11_s4/sweep_whales_may11_s4_203.yaml; python full_experiment.py --config /home/jupyter/sweep_whales_may11_s4/sweep_whales_may11_s4_34.yaml; python full_experiment.py --config /home/jupyter/sweep_whales_may11_s4/sweep_whales_may11_s4_75.yaml; python full_experiment.py --config /home/jupyter/sweep_whales_may11_s4/sweep_whales_may11_s4_77.yaml; python full_experiment.py --config /home/jupyter/sweep_whales_may11_s4/sweep_whales_may11_s4_134.yaml; python full_experiment.py --config /home/jupyter/sweep_whales_may11_s4/sweep_whales_may11_s4_69.yaml; python full_experiment.py --config /home/jupyter/sweep_whales_may11_s4/sweep_whales_may11_s4_109.yaml; python full_experiment.py --config /home/jupyter/sweep_whales_may11_s4/sweep_whales_may11_s4_137.yaml; python full_experiment.py --config /home/jupyter/sweep_whales_may11_s4/sweep_whales_may11_s4_64.yaml; python full_experiment.py --config /home/jupyter/sweep_whales_may11_s4/sweep_whales_may11_s4_44.yaml; python full_experiment.py --config /home/jupyter/sweep_whales_may11_s4/sweep_whales_may11_s4_103.yaml; python full_experiment.py --config /home/jupyter/sweep_whales_may11_s4/sweep_whales_may11_s4_67.yaml; python full_experiment.py --config /home/jupyter/sweep_whales_may11_s4/sweep_whales_may11_s4_91.yaml; python full_experiment.py --config /home/jupyter/sweep_whales_may11_s4/sweep_whales_may11_s4_164.yaml; python full_experiment.py --config /home/jupyter/sweep_whales_may11_s4/sweep_whales_may11_s4_210.yaml; python full_experiment.py --config /home/jupyter/sweep_whales_may11_s4/sweep_whales_may11_s4_56.yaml; python full_experiment.py --config /home/jupyter/sweep_whales_may11_s4/sweep_whales_may11_s4_207.yaml; python full_experiment.py --config /home/jupyter/sweep_whales_may11_s4/sweep_whales_may11_s4_169.yaml; python full_experiment.py --config /home/jupyter/sweep_whales_may11_s4/sweep_whales_may11_s4_46.yaml; python full_experiment.py --config /home/jupyter/sweep_whales_may11_s4/sweep_whales_may11_s4_186.yaml; python full_experiment.py --config /home/jupyter/sweep_whales_may11_s4/sweep_whales_may11_s4_128.yaml; python full_experiment.py --config /home/jupyter/sweep_whales_may11_s4/sweep_whales_may11_s4_122.yaml; python full_experiment.py --config /home/jupyter/sweep_whales_may11_s4/sweep_whales_may11_s4_100.yaml; python full_experiment.py --config /home/jupyter/sweep_whales_may11_s4/sweep_whales_may11_s4_204.yaml; python full_experiment.py --config /home/jupyter/sweep_whales_may11_s4/sweep_whales_may11_s4_154.yaml; python full_experiment.py --config /home/jupyter/sweep_whales_may11_s4/sweep_whales_may11_s4_208.yaml; python full_experiment.py --config /home/jupyter/sweep_whales_may11_s4/sweep_whales_may11_s4_132.yaml; python full_experiment.py --config /home/jupyter/sweep_whales_may11_s4/sweep_whales_may11_s4_131.yaml; python full_experiment.py --config /home/jupyter/sweep_whales_may11_s4/sweep_whales_may11_s4_101.yaml; python full_experiment.py --config /home/jupyter/sweep_whales_may11_s4/sweep_whales_may11_s4_130.yaml; python full_experiment.py --config /home/jupyter/sweep_whales_may11_s4/sweep_whales_may11_s4_175.yaml; python full_experiment.py --config /home/jupyter/sweep_whales_may11_s4/sweep_whales_may11_s4_98.yaml; python full_experiment.py --config /home/jupyter/sweep_whales_may11_s4/sweep_whales_may11_s4_133.yaml; python full_experiment.py --config /home/jupyter/sweep_whales_may11_s4/sweep_whales_may11_s4_167.yaml; python full_experiment.py --config /home/jupyter/sweep_whales_may11_s4/sweep_whales_may11_s4_47.yaml; python full_experiment.py --config /home/jupyter/sweep_whales_may11_s4/sweep_whales_may11_s4_15.yaml; python full_experiment.py --config /home/jupyter/sweep_whales_may11_s4/sweep_whales_may11_s4_13.yaml; python full_experiment.py --config /home/jupyter/sweep_whales_may11_s4/sweep_whales_may11_s4_33.yaml; python full_experiment.py --config /home/jupyter/sweep_whales_may11_s4/sweep_whales_may11_s4_120.yaml; python full_experiment.py --config /home/jupyter/sweep_whales_may11_s4/sweep_whales_may11_s4_148.yaml; python full_experiment.py --config /home/jupyter/sweep_whales_may11_s4/sweep_whales_may11_s4_54.yaml; python full_experiment.py --config /home/jupyter/sweep_whales_may11_s4/sweep_whales_may11_s4_8.yaml; python full_experiment.py --config /home/jupyter/sweep_whales_may11_s4/sweep_whales_may11_s4_86.yaml; python full_experiment.py --config /home/jupyter/sweep_whales_may11_s4/sweep_whales_may11_s4_35.yaml; python full_experiment.py --config /home/jupyter/sweep_whales_may11_s4/sweep_whales_may11_s4_118.yaml; python full_experiment.py --config /home/jupyter/sweep_whales_may11_s4/sweep_whales_may11_s4_22.yaml; python full_experiment.py --config /home/jupyter/sweep_whales_may11_s4/sweep_whales_may11_s4_123.yaml; python full_experiment.py --config /home/jupyter/sweep_whales_may11_s4/sweep_whales_may11_s4_58.yaml; python full_experiment.py --config /home/jupyter/sweep_whales_may11_s4/sweep_whales_may11_s4_111.yaml; python full_experiment.py --config /home/jupyter/sweep_whales_may11_s4/sweep_whales_may11_s4_53.yaml; python full_experiment.py --config /home/jupyter/sweep_whales_may11_s4/sweep_whales_may11_s4_190.yaml; python full_experiment.py --config /home/jupyter/sweep_whales_may11_s4/sweep_whales_may11_s4_161.yaml; python full_experiment.py --config /home/jupyter/sweep_whales_may11_s4/sweep_whales_may11_s4_206.yaml; python full_experiment.py --config /home/jupyter/sweep_whales_may11_s4/sweep_whales_may11_s4_178.yaml; python full_experiment.py --config /home/jupyter/sweep_whales_may11_s4/sweep_whales_may11_s4_187.yaml; python full_experiment.py --config /home/jupyter/sweep_whales_may11_s4/sweep_whales_may11_s4_41.yaml; python full_experiment.py --config /home/jupyter/sweep_whales_may11_s4/sweep_whales_may11_s4_96.yaml; python full_experiment.py --config /home/jupyter/sweep_whales_may11_s4/sweep_whales_may11_s4_188.yaml; python full_experiment.py --config /home/jupyter/sweep_whales_may11_s4/sweep_whales_may11_s4_48.yaml; python full_experiment.py --config /home/jupyter/sweep_whales_may11_s4/sweep_whales_may11_s4_21.yaml; python full_experiment.py --config /home/jupyter/sweep_whales_may11_s4/sweep_whales_may11_s4_37.yaml; python full_experiment.py --config /home/jupyter/sweep_whales_may11_s4/sweep_whales_may11_s4_183.yaml; python full_experiment.py --config /home/jupyter/sweep_whales_may11_s4/sweep_whales_may11_s4_30.yaml; python full_experiment.py --config /home/jupyter/sweep_whales_may11_s4/sweep_whales_may11_s4_5.yaml; python full_experiment.py --config /home/jupyter/sweep_whales_may11_s4/sweep_whales_may11_s4_198.yaml; python full_experiment.py --config /home/jupyter/sweep_whales_may11_s4/sweep_whales_may11_s4_2.yaml; python full_experiment.py --config /home/jupyter/sweep_whales_may11_s4/sweep_whales_may11_s4_97.yaml; python full_experiment.py --config /home/jupyter/sweep_whales_may11_s4/sweep_whales_may11_s4_174.yaml; python full_experiment.py --config /home/jupyter/sweep_whales_may11_s4/sweep_whales_may11_s4_139.yaml; python full_experiment.py --config /home/jupyter/sweep_whales_may11_s4/sweep_whales_may11_s4_135.yaml; python full_experiment.py --config /home/jupyter/sweep_whales_may11_s4/sweep_whales_may11_s4_202.yaml; python full_experiment.py --config /home/jupyter/sweep_whales_may11_s4/sweep_whales_may11_s4_83.yaml; python full_experiment.py --config /home/jupyter/sweep_whales_may11_s4/sweep_whales_may11_s4_65.yaml; python full_experiment.py --config /home/jupyter/sweep_whales_may11_s4/sweep_whales_may11_s4_157.yaml; python full_experiment.py --config /home/jupyter/sweep_whales_may11_s4/sweep_whales_may11_s4_88.yaml; python full_experiment.py --config /home/jupyter/sweep_whales_may11_s4/sweep_whales_may11_s4_12.yaml; python full_experiment.py --config /home/jupyter/sweep_whales_may11_s4/sweep_whales_may11_s4_142.yaml; python full_experiment.py --config /home/jupyter/sweep_whales_may11_s4/sweep_whales_may11_s4_212.yaml; python full_experiment.py --config /home/jupyter/sweep_whales_may11_s4/sweep_whales_may11_s4_89.yaml; python full_experiment.py --config /home/jupyter/sweep_whales_may11_s4/sweep_whales_may11_s4_171.yaml; python full_experiment.py --config /home/jupyter/sweep_whales_may11_s4/sweep_whales_may11_s4_39.yaml; python full_experiment.py --config /home/jupyter/sweep_whales_may11_s4/sweep_whales_may11_s4_155.yaml; python full_experiment.py --config /home/jupyter/sweep_whales_may11_s4/sweep_whales_may11_s4_162.yaml; python full_experiment.py --config /home/jupyter/sweep_whales_may11_s4/sweep_whales_may11_s4_173.yaml; python full_experiment.py --config /home/jupyter/sweep_whales_may11_s4/sweep_whales_may11_s4_43.yaml; python full_experiment.py --config /home/jupyter/sweep_whales_may11_s4/sweep_whales_may11_s4_38.yaml; python full_experiment.py --config /home/jupyter/sweep_whales_may11_s4/sweep_whales_may11_s4_80.yaml; python full_experiment.py --config /home/jupyter/sweep_whales_may11_s4/sweep_whales_may11_s4_51.yaml; python full_experiment.py --config /home/jupyter/sweep_whales_may11_s4/sweep_whales_may11_s4_136.yaml; python full_experiment.py --config /home/jupyter/sweep_whales_may11_s4/sweep_whales_may11_s4_145.yaml; python full_experiment.py --config /home/jupyter/sweep_whales_may11_s4/sweep_whales_may11_s4_191.yaml; python full_experiment.py --config /home/jupyter/sweep_whales_may11_s4/sweep_whales_may11_s4_144.yaml; python full_experiment.py --config /home/jupyter/sweep_whales_may11_s4/sweep_whales_may11_s4_99.yaml; python full_experiment.py --config /home/jupyter/sweep_whales_may11_s4/sweep_whales_may11_s4_57.yaml; python full_experiment.py --config /home/jupyter/sweep_whales_may11_s4/sweep_whales_may11_s4_196.yaml; python full_experiment.py --config /home/jupyter/sweep_whales_may11_s4/sweep_whales_may11_s4_193.yaml; python full_experiment.py --config /home/jupyter/sweep_whales_may11_s4/sweep_whales_may11_s4_1.yaml; python full_experiment.py --config /home/jupyter/sweep_whales_may11_s4/sweep_whales_may11_s4_84.yaml; python full_experiment.py --config /home/jupyter/sweep_whales_may11_s4/sweep_whales_may11_s4_180.yaml; python full_experiment.py --config /home/jupyter/sweep_whales_may11_s4/sweep_whales_may11_s4_184.yaml; python full_experiment.py --config /home/jupyter/sweep_whales_may11_s4/sweep_whales_may11_s4_172.yaml; python full_experiment.py --config /home/jupyter/sweep_whales_may11_s4/sweep_whales_may11_s4_63.yaml; python full_experiment.py --config /home/jupyter/sweep_whales_may11_s4/sweep_whales_may11_s4_94.yaml; python full_experiment.py --config /home/jupyter/sweep_whales_may11_s4/sweep_whales_may11_s4_163.yaml; python full_experiment.py --config /home/jupyter/sweep_whales_may11_s4/sweep_whales_may11_s4_68.yaml; python full_experiment.py --config /home/jupyter/sweep_whales_may11_s4/sweep_whales_may11_s4_152.yaml; python full_experiment.py --config /home/jupyter/sweep_whales_may11_s4/sweep_whales_may11_s4_20.yaml; python full_experiment.py --config /home/jupyter/sweep_whales_may11_s4/sweep_whales_may11_s4_14.yaml; python full_experiment.py --config /home/jupyter/sweep_whales_may11_s4/sweep_whales_may11_s4_81.yaml; python full_experiment.py --config /home/jupyter/sweep_whales_may11_s4/sweep_whales_may11_s4_18.yaml; python full_experiment.py --config /home/jupyter/sweep_whales_may11_s4/sweep_whales_may11_s4_121.yaml; python full_experiment.py --config /home/jupyter/sweep_whales_may11_s4/sweep_whales_may11_s4_125.yaml; python full_experiment.py --config /home/jupyter/sweep_whales_may11_s4/sweep_whales_may11_s4_185.yaml; python full_experiment.py --config /home/jupyter/sweep_whales_may11_s4/sweep_whales_may11_s4_205.yaml; python full_experiment.py --config /home/jupyter/sweep_whales_may11_s4/sweep_whales_may11_s4_146.yaml; python full_experiment.py --config /home/jupyter/sweep_whales_may11_s4/sweep_whales_may11_s4_143.yaml; python full_experiment.py --config /home/jupyter/sweep_whales_may11_s4/sweep_whales_may11_s4_147.yaml; python full_experiment.py --config /home/jupyter/sweep_whales_may11_s4/sweep_whales_may11_s4_28.yaml; python full_experiment.py --config /home/jupyter/sweep_whales_may11_s4/sweep_whales_may11_s4_211.yaml; python full_experiment.py --config /home/jupyter/sweep_whales_may11_s4/sweep_whales_may11_s4_40.yaml; python full_experiment.py --config /home/jupyter/sweep_whales_may11_s4/sweep_whales_may11_s4_195.yaml; python full_experiment.py --config /home/jupyter/sweep_whales_may11_s4/sweep_whales_may11_s4_149.yaml; python full_experiment.py --config /home/jupyter/sweep_whales_may11_s4/sweep_whales_may11_s4_66.yaml; python full_experiment.py --config /home/jupyter/sweep_whales_may11_s4/sweep_whales_may11_s4_16.yaml; python full_experiment.py --config /home/jupyter/sweep_whales_may11_s4/sweep_whales_may11_s4_138.yaml; python full_experiment.py --config /home/jupyter/sweep_whales_may11_s4/sweep_whales_may11_s4_181.yaml; python full_experiment.py --config /home/jupyter/sweep_whales_may11_s4/sweep_whales_may11_s4_150.yaml; python full_experiment.py --config /home/jupyter/sweep_whales_may11_s4/sweep_whales_may11_s4_106.yaml; python full_experiment.py --config /home/jupyter/sweep_whales_may11_s4/sweep_whales_may11_s4_32.yaml; python full_experiment.py --config /home/jupyter/sweep_whales_may11_s4/sweep_whales_may11_s4_115.yaml; python full_experiment.py --config /home/jupyter/sweep_whales_may11_s4/sweep_whales_may11_s4_179.yaml; python full_experiment.py --config /home/jupyter/sweep_whales_may11_s4/sweep_whales_may11_s4_82.yaml; python full_experiment.py --config /home/jupyter/sweep_whales_may11_s4/sweep_whales_may11_s4_0.yaml; python full_experiment.py --config /home/jupyter/sweep_whales_may11_s4/sweep_whales_may11_s4_176.yaml; python full_experiment.py --config /home/jupyter/sweep_whales_may11_s4/sweep_whales_may11_s4_72.yaml; python full_experiment.py --config /home/jupyter/sweep_whales_may11_s4/sweep_whales_may11_s4_165.yaml; python full_experiment.py --config /home/jupyter/sweep_whales_may11_s4/sweep_whales_may11_s4_177.yaml; python full_experiment.py --config /home/jupyter/sweep_whales_may11_s4/sweep_whales_may11_s4_76.yaml; python full_experiment.py --config /home/jupyter/sweep_whales_may11_s4/sweep_whales_may11_s4_27.yaml; python full_experiment.py --config /home/jupyter/sweep_whales_may11_s4/sweep_whales_may11_s4_23.yaml; python full_experiment.py --config /home/jupyter/sweep_whales_may11_s4/sweep_whales_may11_s4_31.yaml; python full_experiment.py --config /home/jupyter/sweep_whales_may11_s4/sweep_whales_may11_s4_42.yaml; python full_experiment.py --config /home/jupyter/sweep_whales_may11_s4/sweep_whales_may11_s4_70.yaml; python full_experiment.py --config /home/jupyter/sweep_whales_may11_s4/sweep_whales_may11_s4_159.yaml; python full_experiment.py --config /home/jupyter/sweep_whales_may11_s4/sweep_whales_may11_s4_60.yaml; python full_experiment.py --config /home/jupyter/sweep_whales_may11_s4/sweep_whales_may11_s4_107.yaml; python full_experiment.py --config /home/jupyter/sweep_whales_may11_s4/sweep_whales_may11_s4_49.yaml; python full_experiment.py --config /home/jupyter/sweep_whales_may11_s4/sweep_whales_may11_s4_71.yaml; python full_experiment.py --config /home/jupyter/sweep_whales_may11_s4/sweep_whales_may11_s4_158.yaml; python full_experiment.py --config /home/jupyter/sweep_whales_may11_s4/sweep_whales_may11_s4_201.yaml; python full_experiment.py --config /home/jupyter/sweep_whales_may11_s4/sweep_whales_may11_s4_119.yaml; python full_experiment.py --config /home/jupyter/sweep_whales_may11_s4/sweep_whales_may11_s4_140.yaml; python full_experiment.py --config /home/jupyter/sweep_whales_may11_s4/sweep_whales_may11_s4_199.yaml; python full_experiment.py --config /home/jupyter/sweep_whales_may11_s4/sweep_whales_may11_s4_36.yaml; python full_experiment.py --config /home/jupyter/sweep_whales_may11_s4/sweep_whales_may11_s4_3.yaml; python full_experiment.py --config /home/jupyter/sweep_whales_may11_s4/sweep_whales_may11_s4_215.yaml; python full_experiment.py --config /home/jupyter/sweep_whales_may11_s4/sweep_whales_may11_s4_166.yaml; python full_experiment.py --config /home/jupyter/sweep_whales_may11_s4/sweep_whales_may11_s4_160.yaml; python full_experiment.py --config /home/jupyter/sweep_whales_may11_s4/sweep_whales_may11_s4_102.yaml; python full_experiment.py --config /home/jupyter/sweep_whales_may11_s4/sweep_whales_may11_s4_93.yaml; python full_experiment.py --config /home/jupyter/sweep_whales_may11_s4/sweep_whales_may11_s4_189.yaml; python full_experiment.py --config /home/jupyter/sweep_whales_may11_s4/sweep_whales_may11_s4_213.yaml; python full_experiment.py --config /home/jupyter/sweep_whales_may11_s4/sweep_whales_may11_s4_92.yaml; python full_experiment.py --config /home/jupyter/sweep_whales_may11_s4/sweep_whales_may11_s4_127.yaml; python full_experiment.py --config /home/jupyter/sweep_whales_may11_s4/sweep_whales_may11_s4_52.yaml; python full_experiment.py --config /home/jupyter/sweep_whales_may11_s4/sweep_whales_may11_s4_62.yaml; python full_experiment.py --config /home/jupyter/sweep_whales_may11_s4/sweep_whales_may11_s4_45.yaml; python full_experiment.py --config /home/jupyter/sweep_whales_may11_s4/sweep_whales_may11_s4_26.yaml; python full_experiment.py --config /home/jupyter/sweep_whales_may11_s4/sweep_whales_may11_s4_29.yaml; python full_experiment.py --config /home/jupyter/sweep_whales_may11_s4/sweep_whales_may11_s4_11.yaml; python full_experiment.py --config /home/jupyter/sweep_whales_may11_s4/sweep_whales_may11_s4_126.yaml; python full_experiment.py --config /home/jupyter/sweep_whales_may11_s4/sweep_whales_may11_s4_153.yaml; python full_experiment.py --config /home/jupyter/sweep_whales_may11_s4/sweep_whales_may11_s4_209.yaml; python full_experiment.py --config /home/jupyter/sweep_whales_may11_s4/sweep_whales_may11_s4_156.yaml; python full_experiment.py --config /home/jupyter/sweep_whales_may11_s4/sweep_whales_may11_s4_114.yaml; python full_experiment.py --config /home/jupyter/sweep_whales_may11_s4/sweep_whales_may11_s4_151.yaml; python full_experiment.py --config /home/jupyter/sweep_whales_may11_s4/sweep_whales_may11_s4_87.yaml; python full_experiment.py --config /home/jupyter/sweep_whales_may11_s4/sweep_whales_may11_s4_200.yaml; python full_experiment.py --config /home/jupyter/sweep_whales_may11_s4/sweep_whales_may11_s4_197.yaml; python full_experiment.py --config /home/jupyter/sweep_whales_may11_s4/sweep_whales_may11_s4_214.yaml; python full_experiment.py --config /home/jupyter/sweep_whales_may11_s4/sweep_whales_may11_s4_90.yaml; python full_experiment.py --config /home/jupyter/sweep_whales_may11_s4/sweep_whales_may11_s4_113.yaml; python full_experiment.py --config /home/jupyter/sweep_whales_may11_s4/sweep_whales_may11_s4_19.yaml; python full_experiment.py --config /home/jupyter/sweep_whales_may11_s4/sweep_whales_may11_s4_79.yaml; python full_experiment.py --config /home/jupyter/sweep_whales_may11_s4/sweep_whales_may11_s4_17.yaml; python full_experiment.py --config /home/jupyter/sweep_whales_may11_s4/sweep_whales_may11_s4_9.yaml; python full_experiment.py --config /home/jupyter/sweep_whales_may11_s4/sweep_whales_may11_s4_110.yaml; python full_experiment.py --config /home/jupyter/sweep_whales_may11_s4/sweep_whales_may11_s4_10.yaml; python full_experiment.py --config /home/jupyter/sweep_whales_may11_s4/sweep_whales_may11_s4_50.yaml; python full_experiment.py --config /home/jupyter/sweep_whales_may11_s4/sweep_whales_may11_s4_25.yaml; python full_experiment.py --config /home/jupyter/sweep_whales_may11_s4/sweep_whales_may11_s4_108.yaml; python full_experiment.py --config /home/jupyter/sweep_whales_may11_s4/sweep_whales_may11_s4_73.yaml; python full_experiment.py --config /home/jupyter/sweep_whales_may11_s4/sweep_whales_may11_s4_182.yaml; python full_experiment.py --config /home/jupyter/sweep_whales_may11_s4/sweep_whales_may11_s4_112.yaml; python full_experiment.py --config /home/jupyter/sweep_whales_may11_s4/sweep_whales_may11_s4_24.yaml; python full_experiment.py --config /home/jupyter/sweep_whales_may11_s4/sweep_whales_may11_s4_129.yaml; \n"
     ]
    }
   ],
   "source": [
    "# Generate command line prompt to run\n",
    "output = \"\"\n",
    "for config_fp in config_fps:\n",
    "    output += \"python full_experiment.py --config \" + config_fp + \"; \"\n",
    "\n",
    "print(output)\n",
    "#python train_model.py --config /home/jupyter/behavior_benchmarks/behavior_benchmarks/example_config/example_config_eskmeans.yaml"
   ]
  },
  {
   "cell_type": "code",
   "execution_count": null,
   "id": "521af43e-1925-4c2e-9c0e-15f4e1fdfc40",
   "metadata": {},
   "outputs": [],
   "source": []
  },
  {
   "cell_type": "code",
   "execution_count": null,
   "id": "8971903b-13c1-4e9e-991a-6eae4667023e",
   "metadata": {},
   "outputs": [],
   "source": []
  },
  {
   "cell_type": "code",
   "execution_count": null,
   "id": "e365f4ee-6925-425d-af3d-0ebfca17923b",
   "metadata": {},
   "outputs": [],
   "source": []
  }
 ],
 "metadata": {
  "environment": {
   "kernel": "python3",
   "name": "pytorch-gpu.1-9.m82",
   "type": "gcloud",
   "uri": "gcr.io/deeplearning-platform-release/pytorch-gpu.1-9:m82"
  },
  "kernelspec": {
   "display_name": "Python 3",
   "language": "python",
   "name": "python3"
  },
  "language_info": {
   "codemirror_mode": {
    "name": "ipython",
    "version": 3
   },
   "file_extension": ".py",
   "mimetype": "text/x-python",
   "name": "python",
   "nbconvert_exporter": "python",
   "pygments_lexer": "ipython3",
   "version": "3.7.10"
  }
 },
 "nbformat": 4,
 "nbformat_minor": 5
}
