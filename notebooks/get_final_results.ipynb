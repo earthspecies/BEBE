{
 "cells": [
  {
   "cell_type": "markdown",
   "id": "46c85c02-2162-474a-a943-f1a2bda517c6",
   "metadata": {},
   "source": [
    "Notebook which computes scores based on final sets of experiments"
   ]
  },
  {
   "cell_type": "code",
   "execution_count": 1,
   "id": "7a385f52-fe62-4d0b-83ab-e9eab123cffa",
   "metadata": {},
   "outputs": [],
   "source": [
    "import os\n",
    "import yaml\n",
    "import itertools\n",
    "import glob\n",
    "from matplotlib import pyplot as plt\n",
    "import numpy as np\n",
    "from pathlib import Path\n",
    "import sys\n",
    "sys.path.append('..')\n",
    "import BEBE.evaluation.evaluation as evaluation\n",
    "from tqdm import tqdm"
   ]
  },
  {
   "cell_type": "code",
   "execution_count": 12,
   "id": "260daec6-9886-4cc8-9763-6ab3dc5e0b91",
   "metadata": {},
   "outputs": [],
   "source": [
    "########\n",
    "exp_dir = Path(\"/home/jupyter/behavior_benchmarks_experiments/crows_vame_smooth\")\n",
    "########"
   ]
  },
  {
   "cell_type": "code",
   "execution_count": 13,
   "id": "8ba14a23-b9a2-4cb8-bcbf-c5df90eba73d",
   "metadata": {},
   "outputs": [
    {
     "name": "stdout",
     "output_type": "stream",
     "text": [
      "Test f1  : 0.478 (0.112)\n",
      "Test Prec: 0.575 (0.120)\n",
      "Test Rec : 0.544 (0.100)\n",
      "Test TSR : 0.171 (0.142)\n"
     ]
    }
   ],
   "source": [
    "fps = exp_dir.glob('**/test_eval.yaml')\n",
    "f1s = []\n",
    "precs = []\n",
    "recs = []\n",
    "tsrs = []\n",
    "for fp in fps:\n",
    "    with open(fp, 'r') as f:\n",
    "        x = yaml.safe_load(f)\n",
    "    n_individuals = len(x['individual_scores']['macro_f1s'])\n",
    "    f1s.extend(x['individual_scores']['macro_f1s'])\n",
    "    precs.extend(x['individual_scores']['macro_precisions'])\n",
    "    recs.extend(x['individual_scores']['macro_recalls'])\n",
    "    tsrs.extend(x['individual_scores']['time_scale_ratios'])\n",
    "#print(n_individuals)\n",
    "print(\"Test f1  : %1.3f (%1.3f)\" % (np.mean(f1s), np.std(f1s)))\n",
    "print(\"Test Prec: %1.3f (%1.3f)\" % (np.mean(precs), np.std(precs)))\n",
    "print(\"Test Rec : %1.3f (%1.3f)\" % (np.mean(recs), np.std(recs)))\n",
    "print(\"Test TSR : %1.3f (%1.3f)\" % (np.mean(tsrs), np.std(tsrs)))"
   ]
  },
  {
   "cell_type": "code",
   "execution_count": 14,
   "id": "ea3c9141-a440-40e9-9d2c-1b7b358e0815",
   "metadata": {},
   "outputs": [
    {
     "name": "stdout",
     "output_type": "stream",
     "text": [
      "Train f1  : 0.541 (0.147)\n",
      "Train Prec: 0.649 (0.216)\n",
      "Train Rec : 0.555 (0.111)\n",
      "Train TSR : 0.235 (0.187)\n"
     ]
    }
   ],
   "source": [
    "fps = exp_dir.glob('**/dev_eval.yaml')\n",
    "f1s = []\n",
    "precs = []\n",
    "recs = []\n",
    "tsrs = []\n",
    "for fp in fps:\n",
    "    with open(fp, 'r') as f:\n",
    "        x = yaml.safe_load(f)\n",
    "    n_individuals = len(x['individual_scores']['macro_f1s'])\n",
    "    f1s.extend(x['individual_scores']['macro_f1s'])\n",
    "    precs.extend(x['individual_scores']['macro_precisions'])\n",
    "    recs.extend(x['individual_scores']['macro_recalls'])\n",
    "    tsrs.extend(x['individual_scores']['time_scale_ratios'])\n",
    "#print(n_individuals)\n",
    "print(\"Train f1  : %1.3f (%1.3f)\" % (np.mean(f1s), np.std(f1s)))\n",
    "print(\"Train Prec: %1.3f (%1.3f)\" % (np.mean(precs), np.std(precs)))\n",
    "print(\"Train Rec : %1.3f (%1.3f)\" % (np.mean(recs), np.std(recs)))\n",
    "print(\"Train TSR : %1.3f (%1.3f)\" % (np.mean(tsrs), np.std(tsrs)))"
   ]
  },
  {
   "cell_type": "code",
   "execution_count": null,
   "id": "fc2574ce-4580-41c4-b0df-fa60db342eaf",
   "metadata": {},
   "outputs": [],
   "source": []
  }
 ],
 "metadata": {
  "environment": {
   "kernel": "python3",
   "name": "pytorch-gpu.1-11.m94",
   "type": "gcloud",
   "uri": "gcr.io/deeplearning-platform-release/pytorch-gpu.1-11:m94"
  },
  "kernelspec": {
   "display_name": "Python 3",
   "language": "python",
   "name": "python3"
  },
  "language_info": {
   "codemirror_mode": {
    "name": "ipython",
    "version": 3
   },
   "file_extension": ".py",
   "mimetype": "text/x-python",
   "name": "python",
   "nbconvert_exporter": "python",
   "pygments_lexer": "ipython3",
   "version": "3.7.12"
  }
 },
 "nbformat": 4,
 "nbformat_minor": 5
}
